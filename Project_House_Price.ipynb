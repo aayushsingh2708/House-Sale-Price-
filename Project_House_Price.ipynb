{
 "cells": [
  {
   "cell_type": "markdown",
   "metadata": {
    "colab_type": "text",
    "id": "7XKECuuOb2gN"
   },
   "source": [
    "# Housing Price Prediction"
   ]
  },
  {
   "cell_type": "code",
   "execution_count": 2,
   "metadata": {
    "colab": {},
    "colab_type": "code",
    "executionInfo": {
     "elapsed": 1885,
     "status": "ok",
     "timestamp": 1592370767549,
     "user": {
      "displayName": "Sharoon Saxena",
      "photoUrl": "https://lh3.googleusercontent.com/a-/AOh14GjyKz9rNCPkHi6QK8TjrjBFlTtaI9ngf0hIwgAl=s64",
      "userId": "01167841530696023488"
     },
     "user_tz": -330
    },
    "id": "CEzh4N2IyxfG"
   },
   "outputs": [],
   "source": [
    "#importing libraries\n",
    "import numpy as np\n",
    "import pandas as pd\n",
    "import matplotlib.pyplot as plt\n",
    "import warnings\n",
    "warnings.filterwarnings('ignore')"
   ]
  },
  {
   "cell_type": "code",
   "execution_count": 3,
   "metadata": {
    "colab": {
     "base_uri": "https://localhost:8080/",
     "height": 496
    },
    "colab_type": "code",
    "executionInfo": {
     "elapsed": 3079,
     "status": "ok",
     "timestamp": 1592370768754,
     "user": {
      "displayName": "Sharoon Saxena",
      "photoUrl": "https://lh3.googleusercontent.com/a-/AOh14GjyKz9rNCPkHi6QK8TjrjBFlTtaI9ngf0hIwgAl=s64",
      "userId": "01167841530696023488"
     },
     "user_tz": -330
    },
    "id": "kzt4iPvvzUGU",
    "outputId": "eca50793-6692-4c67-8310-11cf9df50f99"
   },
   "outputs": [
    {
     "data": {
      "text/html": [
       "<div>\n",
       "<style scoped>\n",
       "    .dataframe tbody tr th:only-of-type {\n",
       "        vertical-align: middle;\n",
       "    }\n",
       "\n",
       "    .dataframe tbody tr th {\n",
       "        vertical-align: top;\n",
       "    }\n",
       "\n",
       "    .dataframe thead th {\n",
       "        text-align: right;\n",
       "    }\n",
       "</style>\n",
       "<table border=\"1\" class=\"dataframe\">\n",
       "  <thead>\n",
       "    <tr style=\"text-align: right;\">\n",
       "      <th></th>\n",
       "      <th>ID</th>\n",
       "      <th>Date House was Sold</th>\n",
       "      <th>Sale Price</th>\n",
       "      <th>No of Bedrooms</th>\n",
       "      <th>No of Bathrooms</th>\n",
       "      <th>Flat Area (in Sqft)</th>\n",
       "      <th>Lot Area (in Sqft)</th>\n",
       "      <th>No of Floors</th>\n",
       "      <th>Waterfront View</th>\n",
       "      <th>No of Times Visited</th>\n",
       "      <th>...</th>\n",
       "      <th>Overall Grade</th>\n",
       "      <th>Area of the House from Basement (in Sqft)</th>\n",
       "      <th>Basement Area (in Sqft)</th>\n",
       "      <th>Age of House (in Years)</th>\n",
       "      <th>Renovated Year</th>\n",
       "      <th>Zipcode</th>\n",
       "      <th>Latitude</th>\n",
       "      <th>Longitude</th>\n",
       "      <th>Living Area after Renovation (in Sqft)</th>\n",
       "      <th>Lot Area after Renovation (in Sqft)</th>\n",
       "    </tr>\n",
       "  </thead>\n",
       "  <tbody>\n",
       "    <tr>\n",
       "      <th>0</th>\n",
       "      <td>7129300520</td>\n",
       "      <td>14 October 2017</td>\n",
       "      <td>221900.0</td>\n",
       "      <td>3</td>\n",
       "      <td>1.00</td>\n",
       "      <td>1180.0</td>\n",
       "      <td>5650.0</td>\n",
       "      <td>1.0</td>\n",
       "      <td>No</td>\n",
       "      <td>None</td>\n",
       "      <td>...</td>\n",
       "      <td>7</td>\n",
       "      <td>1180.0</td>\n",
       "      <td>0</td>\n",
       "      <td>63</td>\n",
       "      <td>0</td>\n",
       "      <td>98178.0</td>\n",
       "      <td>47.5112</td>\n",
       "      <td>-122.257</td>\n",
       "      <td>1340.0</td>\n",
       "      <td>5650</td>\n",
       "    </tr>\n",
       "    <tr>\n",
       "      <th>1</th>\n",
       "      <td>6414100192</td>\n",
       "      <td>14 December 2017</td>\n",
       "      <td>538000.0</td>\n",
       "      <td>3</td>\n",
       "      <td>2.25</td>\n",
       "      <td>2570.0</td>\n",
       "      <td>7242.0</td>\n",
       "      <td>2.0</td>\n",
       "      <td>No</td>\n",
       "      <td>None</td>\n",
       "      <td>...</td>\n",
       "      <td>7</td>\n",
       "      <td>2170.0</td>\n",
       "      <td>400</td>\n",
       "      <td>67</td>\n",
       "      <td>1991</td>\n",
       "      <td>98125.0</td>\n",
       "      <td>47.7210</td>\n",
       "      <td>-122.319</td>\n",
       "      <td>1690.0</td>\n",
       "      <td>7639</td>\n",
       "    </tr>\n",
       "    <tr>\n",
       "      <th>2</th>\n",
       "      <td>5631500400</td>\n",
       "      <td>15 February 2016</td>\n",
       "      <td>180000.0</td>\n",
       "      <td>2</td>\n",
       "      <td>1.00</td>\n",
       "      <td>770.0</td>\n",
       "      <td>10000.0</td>\n",
       "      <td>1.0</td>\n",
       "      <td>No</td>\n",
       "      <td>None</td>\n",
       "      <td>...</td>\n",
       "      <td>6</td>\n",
       "      <td>770.0</td>\n",
       "      <td>0</td>\n",
       "      <td>85</td>\n",
       "      <td>0</td>\n",
       "      <td>98028.0</td>\n",
       "      <td>47.7379</td>\n",
       "      <td>-122.233</td>\n",
       "      <td>2720.0</td>\n",
       "      <td>8062</td>\n",
       "    </tr>\n",
       "    <tr>\n",
       "      <th>3</th>\n",
       "      <td>2487200875</td>\n",
       "      <td>14 December 2017</td>\n",
       "      <td>604000.0</td>\n",
       "      <td>4</td>\n",
       "      <td>3.00</td>\n",
       "      <td>1960.0</td>\n",
       "      <td>5000.0</td>\n",
       "      <td>1.0</td>\n",
       "      <td>No</td>\n",
       "      <td>None</td>\n",
       "      <td>...</td>\n",
       "      <td>7</td>\n",
       "      <td>1050.0</td>\n",
       "      <td>910</td>\n",
       "      <td>53</td>\n",
       "      <td>0</td>\n",
       "      <td>98136.0</td>\n",
       "      <td>47.5208</td>\n",
       "      <td>-122.393</td>\n",
       "      <td>1360.0</td>\n",
       "      <td>5000</td>\n",
       "    </tr>\n",
       "    <tr>\n",
       "      <th>4</th>\n",
       "      <td>1954400510</td>\n",
       "      <td>15 February 2016</td>\n",
       "      <td>510000.0</td>\n",
       "      <td>3</td>\n",
       "      <td>2.00</td>\n",
       "      <td>1680.0</td>\n",
       "      <td>8080.0</td>\n",
       "      <td>1.0</td>\n",
       "      <td>No</td>\n",
       "      <td>None</td>\n",
       "      <td>...</td>\n",
       "      <td>8</td>\n",
       "      <td>1680.0</td>\n",
       "      <td>0</td>\n",
       "      <td>31</td>\n",
       "      <td>0</td>\n",
       "      <td>98074.0</td>\n",
       "      <td>47.6168</td>\n",
       "      <td>-122.045</td>\n",
       "      <td>1800.0</td>\n",
       "      <td>7503</td>\n",
       "    </tr>\n",
       "  </tbody>\n",
       "</table>\n",
       "<p>5 rows × 21 columns</p>\n",
       "</div>"
      ],
      "text/plain": [
       "           ID Date House was Sold  Sale Price  No of Bedrooms  \\\n",
       "0  7129300520     14 October 2017    221900.0               3   \n",
       "1  6414100192    14 December 2017    538000.0               3   \n",
       "2  5631500400    15 February 2016    180000.0               2   \n",
       "3  2487200875    14 December 2017    604000.0               4   \n",
       "4  1954400510    15 February 2016    510000.0               3   \n",
       "\n",
       "   No of Bathrooms  Flat Area (in Sqft)  Lot Area (in Sqft)  No of Floors  \\\n",
       "0             1.00               1180.0              5650.0           1.0   \n",
       "1             2.25               2570.0              7242.0           2.0   \n",
       "2             1.00                770.0             10000.0           1.0   \n",
       "3             3.00               1960.0              5000.0           1.0   \n",
       "4             2.00               1680.0              8080.0           1.0   \n",
       "\n",
       "  Waterfront View No of Times Visited  ... Overall Grade  \\\n",
       "0              No                None  ...             7   \n",
       "1              No                None  ...             7   \n",
       "2              No                None  ...             6   \n",
       "3              No                None  ...             7   \n",
       "4              No                None  ...             8   \n",
       "\n",
       "   Area of the House from Basement (in Sqft)  Basement Area (in Sqft)  \\\n",
       "0                                     1180.0                        0   \n",
       "1                                     2170.0                      400   \n",
       "2                                      770.0                        0   \n",
       "3                                     1050.0                      910   \n",
       "4                                     1680.0                        0   \n",
       "\n",
       "   Age of House (in Years)  Renovated Year  Zipcode  Latitude  Longitude  \\\n",
       "0                       63               0  98178.0   47.5112   -122.257   \n",
       "1                       67            1991  98125.0   47.7210   -122.319   \n",
       "2                       85               0  98028.0   47.7379   -122.233   \n",
       "3                       53               0  98136.0   47.5208   -122.393   \n",
       "4                       31               0  98074.0   47.6168   -122.045   \n",
       "\n",
       "   Living Area after Renovation (in Sqft)  Lot Area after Renovation (in Sqft)  \n",
       "0                                  1340.0                                 5650  \n",
       "1                                  1690.0                                 7639  \n",
       "2                                  2720.0                                 8062  \n",
       "3                                  1360.0                                 5000  \n",
       "4                                  1800.0                                 7503  \n",
       "\n",
       "[5 rows x 21 columns]"
      ]
     },
     "execution_count": 3,
     "metadata": {},
     "output_type": "execute_result"
    }
   ],
   "source": [
    "#importing data\n",
    "data = pd.read_csv('Raw_Housing_Prices.csv')\n",
    "data.head()"
   ]
  },
  {
   "cell_type": "code",
   "execution_count": 4,
   "metadata": {
    "colab": {
     "base_uri": "https://localhost:8080/",
     "height": 170
    },
    "colab_type": "code",
    "executionInfo": {
     "elapsed": 3069,
     "status": "ok",
     "timestamp": 1592370768755,
     "user": {
      "displayName": "Sharoon Saxena",
      "photoUrl": "https://lh3.googleusercontent.com/a-/AOh14GjyKz9rNCPkHi6QK8TjrjBFlTtaI9ngf0hIwgAl=s64",
      "userId": "01167841530696023488"
     },
     "user_tz": -330
    },
    "id": "JXAZHNFlzikf",
    "outputId": "f0eaf5d7-b62b-44f1-a36d-4f4982ac1ed5"
   },
   "outputs": [
    {
     "data": {
      "text/plain": [
       "count    2.160900e+04\n",
       "mean     5.401984e+05\n",
       "std      3.673890e+05\n",
       "min      7.500000e+04\n",
       "25%      3.219500e+05\n",
       "50%      4.500000e+05\n",
       "75%      6.450000e+05\n",
       "max      7.700000e+06\n",
       "Name: Sale Price, dtype: float64"
      ]
     },
     "execution_count": 4,
     "metadata": {},
     "output_type": "execute_result"
    }
   ],
   "source": [
    "data['Sale Price'].describe()"
   ]
  },
  {
   "cell_type": "code",
   "execution_count": 5,
   "metadata": {
    "colab": {
     "base_uri": "https://localhost:8080/",
     "height": 295
    },
    "colab_type": "code",
    "executionInfo": {
     "elapsed": 3062,
     "status": "ok",
     "timestamp": 1592370768756,
     "user": {
      "displayName": "Sharoon Saxena",
      "photoUrl": "https://lh3.googleusercontent.com/a-/AOh14GjyKz9rNCPkHi6QK8TjrjBFlTtaI9ngf0hIwgAl=s64",
      "userId": "01167841530696023488"
     },
     "user_tz": -330
    },
    "id": "qOLiX47REyVj",
    "outputId": "f39accb3-d824-4ef5-bc99-eff800c7cb51"
   },
   "outputs": [
    {
     "data": {
      "text/plain": [
       "<AxesSubplot:ylabel='Frequency'>"
      ]
     },
     "execution_count": 5,
     "metadata": {},
     "output_type": "execute_result"
    },
    {
     "data": {
      "image/png": "[encoded data removed]",
      "text/plain": [
       "<Figure size 432x288 with 1 Axes>"
      ]
     },
     "metadata": {
      "needs_background": "light"
     },
     "output_type": "display_data"
    }
   ],
   "source": [
    "#distribution of target variable\n",
    "data['Sale Price'].plot.hist()"
   ]
  },
  {
   "cell_type": "code",
   "execution_count": 6,
   "metadata": {
    "colab": {
     "base_uri": "https://localhost:8080/",
     "height": 34
    },
    "colab_type": "code",
    "executionInfo": {
     "elapsed": 3055,
     "status": "ok",
     "timestamp": 1592370768757,
     "user": {
      "displayName": "Sharoon Saxena",
      "photoUrl": "https://lh3.googleusercontent.com/a-/AOh14GjyKz9rNCPkHi6QK8TjrjBFlTtaI9ngf0hIwgAl=s64",
      "userId": "01167841530696023488"
     },
     "user_tz": -330
    },
    "id": "Xs8WBt5FzxAI",
    "outputId": "2023fb7e-337f-4ce3-ee34-823fdb6f95a5"
   },
   "outputs": [
    {
     "data": {
      "text/plain": [
       "(321950.0, 645000.0)"
      ]
     },
     "execution_count": 6,
     "metadata": {},
     "output_type": "execute_result"
    }
   ],
   "source": [
    "#checking quantiles\n",
    "q1 = data['Sale Price'].quantile(0.25)\n",
    "q3 = data['Sale Price'].quantile(0.75)\n",
    "q1, q3"
   ]
  },
  {
   "cell_type": "code",
   "execution_count": 7,
   "metadata": {
    "colab": {
     "base_uri": "https://localhost:8080/",
     "height": 34
    },
    "colab_type": "code",
    "executionInfo": {
     "elapsed": 3046,
     "status": "ok",
     "timestamp": 1592370768758,
     "user": {
      "displayName": "Sharoon Saxena",
      "photoUrl": "https://lh3.googleusercontent.com/a-/AOh14GjyKz9rNCPkHi6QK8TjrjBFlTtaI9ngf0hIwgAl=s64",
      "userId": "01167841530696023488"
     },
     "user_tz": -330
    },
    "id": "xFiUJRAY0TWF",
    "outputId": "8204faf3-5c8a-41e4-d66f-831e3df202ee"
   },
   "outputs": [
    {
     "data": {
      "text/plain": [
       "323050.0"
      ]
     },
     "execution_count": 7,
     "metadata": {},
     "output_type": "execute_result"
    }
   ],
   "source": [
    "#calculating iqr\n",
    "iqr = q3 - q1\n",
    "iqr"
   ]
  },
  {
   "cell_type": "code",
   "execution_count": 8,
   "metadata": {
    "colab": {
     "base_uri": "https://localhost:8080/",
     "height": 34
    },
    "colab_type": "code",
    "executionInfo": {
     "elapsed": 3035,
     "status": "ok",
     "timestamp": 1592370768759,
     "user": {
      "displayName": "Sharoon Saxena",
      "photoUrl": "https://lh3.googleusercontent.com/a-/AOh14GjyKz9rNCPkHi6QK8TjrjBFlTtaI9ngf0hIwgAl=s64",
      "userId": "01167841530696023488"
     },
     "user_tz": -330
    },
    "id": "NQGl_iRf3C1q",
    "outputId": "69c6afc6-6ea7-4687-86a4-fb3c06504a85"
   },
   "outputs": [
    {
     "data": {
      "text/plain": [
       "(1129575.0, -162625.0)"
      ]
     },
     "execution_count": 8,
     "metadata": {},
     "output_type": "execute_result"
    }
   ],
   "source": [
    "upper_limit = q3 + 1.5*iqr\n",
    "lower_limit = q1 - 1.5*iqr\n",
    "upper_limit, lower_limit"
   ]
  },
  {
   "cell_type": "code",
   "execution_count": 9,
   "metadata": {
    "colab": {},
    "colab_type": "code",
    "executionInfo": {
     "elapsed": 3027,
     "status": "ok",
     "timestamp": 1592370768760,
     "user": {
      "displayName": "Sharoon Saxena",
      "photoUrl": "https://lh3.googleusercontent.com/a-/AOh14GjyKz9rNCPkHi6QK8TjrjBFlTtaI9ngf0hIwgAl=s64",
      "userId": "01167841530696023488"
     },
     "user_tz": -330
    },
    "id": "mmjlfDJV3Zgy"
   },
   "outputs": [],
   "source": [
    "#imputing outliers\n",
    "def limit_imputer(value):\n",
    "  if value > upper_limit:\n",
    "    return upper_limit\n",
    "  if value < lower_limit:\n",
    "    return lower_limit\n",
    "  else:\n",
    "    return value"
   ]
  },
  {
   "cell_type": "code",
   "execution_count": 10,
   "metadata": {
    "colab": {},
    "colab_type": "code",
    "executionInfo": {
     "elapsed": 3024,
     "status": "ok",
     "timestamp": 1592370768762,
     "user": {
      "displayName": "Sharoon Saxena",
      "photoUrl": "https://lh3.googleusercontent.com/a-/AOh14GjyKz9rNCPkHi6QK8TjrjBFlTtaI9ngf0hIwgAl=s64",
      "userId": "01167841530696023488"
     },
     "user_tz": -330
    },
    "id": "9gOK9l_J4OfO"
   },
   "outputs": [],
   "source": [
    "data['Sale Price'] = data['Sale Price'].apply(limit_imputer)"
   ]
  },
  {
   "cell_type": "code",
   "execution_count": 11,
   "metadata": {
    "colab": {
     "base_uri": "https://localhost:8080/",
     "height": 170
    },
    "colab_type": "code",
    "executionInfo": {
     "elapsed": 3020,
     "status": "ok",
     "timestamp": 1592370768763,
     "user": {
      "displayName": "Sharoon Saxena",
      "photoUrl": "https://lh3.googleusercontent.com/a-/AOh14GjyKz9rNCPkHi6QK8TjrjBFlTtaI9ngf0hIwgAl=s64",
      "userId": "01167841530696023488"
     },
     "user_tz": -330
    },
    "id": "5XtPi_2j4g68",
    "outputId": "e83b1885-a2c3-4e45-f7fe-5f8663d57586"
   },
   "outputs": [
    {
     "data": {
      "text/plain": [
       "count    2.160900e+04\n",
       "mean     5.116186e+05\n",
       "std      2.500620e+05\n",
       "min      7.500000e+04\n",
       "25%      3.219500e+05\n",
       "50%      4.500000e+05\n",
       "75%      6.450000e+05\n",
       "max      1.129575e+06\n",
       "Name: Sale Price, dtype: float64"
      ]
     },
     "execution_count": 11,
     "metadata": {},
     "output_type": "execute_result"
    }
   ],
   "source": [
    "data['Sale Price'].describe()"
   ]
  },
  {
   "cell_type": "code",
   "execution_count": 12,
   "metadata": {
    "colab": {
     "base_uri": "https://localhost:8080/",
     "height": 295
    },
    "colab_type": "code",
    "executionInfo": {
     "elapsed": 4060,
     "status": "ok",
     "timestamp": 1592370769813,
     "user": {
      "displayName": "Sharoon Saxena",
      "photoUrl": "https://lh3.googleusercontent.com/a-/AOh14GjyKz9rNCPkHi6QK8TjrjBFlTtaI9ngf0hIwgAl=s64",
      "userId": "01167841530696023488"
     },
     "user_tz": -330
    },
    "id": "AB0UWP775DsP",
    "outputId": "2640db6d-28af-46b8-abfd-6ef86658ebcb"
   },
   "outputs": [
    {
     "data": {
      "text/plain": [
       "<AxesSubplot:ylabel='Frequency'>"
      ]
     },
     "execution_count": 12,
     "metadata": {},
     "output_type": "execute_result"
    },
    {
     "data": {
      "image/png": "[encoded data removed]",
      "text/plain": [
       "<Figure size 432x288 with 1 Axes>"
      ]
     },
     "metadata": {
      "needs_background": "light"
     },
     "output_type": "display_data"
    }
   ],
   "source": [
    "data['Sale Price'].plot.hist()"
   ]
  },
  {
   "cell_type": "code",
   "execution_count": 13,
   "metadata": {
    "colab": {
     "base_uri": "https://localhost:8080/",
     "height": 391
    },
    "colab_type": "code",
    "executionInfo": {
     "elapsed": 4049,
     "status": "ok",
     "timestamp": 1592370769815,
     "user": {
      "displayName": "Sharoon Saxena",
      "photoUrl": "https://lh3.googleusercontent.com/a-/AOh14GjyKz9rNCPkHi6QK8TjrjBFlTtaI9ngf0hIwgAl=s64",
      "userId": "01167841530696023488"
     },
     "user_tz": -330
    },
    "id": "0iwTohEDZJt_",
    "outputId": "b990f11d-0798-4920-b5f6-e15539b9bbcb"
   },
   "outputs": [
    {
     "data": {
      "text/plain": [
       "ID                                           0\n",
       "Date House was Sold                          0\n",
       "Sale Price                                   4\n",
       "No of Bedrooms                               0\n",
       "No of Bathrooms                              4\n",
       "Flat Area (in Sqft)                          9\n",
       "Lot Area (in Sqft)                           9\n",
       "No of Floors                                 0\n",
       "Waterfront View                              0\n",
       "No of Times Visited                          0\n",
       "Condition of the House                       0\n",
       "Overall Grade                                0\n",
       "Area of the House from Basement (in Sqft)    3\n",
       "Basement Area (in Sqft)                      0\n",
       "Age of House (in Years)                      0\n",
       "Renovated Year                               0\n",
       "Zipcode                                      1\n",
       "Latitude                                     1\n",
       "Longitude                                    1\n",
       "Living Area after Renovation (in Sqft)       1\n",
       "Lot Area after Renovation (in Sqft)          0\n",
       "dtype: int64"
      ]
     },
     "execution_count": 13,
     "metadata": {},
     "output_type": "execute_result"
    }
   ],
   "source": [
    "#checking missing values\n",
    "data.isnull().sum()"
   ]
  },
  {
   "cell_type": "code",
   "execution_count": 14,
   "metadata": {
    "colab": {
     "base_uri": "https://localhost:8080/",
     "height": 34
    },
    "colab_type": "code",
    "executionInfo": {
     "elapsed": 4021,
     "status": "ok",
     "timestamp": 1592370769819,
     "user": {
      "displayName": "Sharoon Saxena",
      "photoUrl": "https://lh3.googleusercontent.com/a-/AOh14GjyKz9rNCPkHi6QK8TjrjBFlTtaI9ngf0hIwgAl=s64",
      "userId": "01167841530696023488"
     },
     "user_tz": -330
    },
    "id": "rlOuAJCrH-dd",
    "outputId": "4afcada8-cdee-4e6a-e394-4ec1f8a2e535"
   },
   "outputs": [
    {
     "data": {
      "text/plain": [
       "4"
      ]
     },
     "execution_count": 14,
     "metadata": {},
     "output_type": "execute_result"
    }
   ],
   "source": [
    "data['Sale Price'].dropna(inplace=True)\n",
    "data[\"Sale Price\"].isnull().sum()"
   ]
  },
  {
   "cell_type": "code",
   "execution_count": 15,
   "metadata": {
    "colab": {
     "base_uri": "https://localhost:8080/",
     "height": 493
    },
    "colab_type": "code",
    "executionInfo": {
     "elapsed": 4009,
     "status": "ok",
     "timestamp": 1592370769820,
     "user": {
      "displayName": "Sharoon Saxena",
      "photoUrl": "https://lh3.googleusercontent.com/a-/AOh14GjyKz9rNCPkHi6QK8TjrjBFlTtaI9ngf0hIwgAl=s64",
      "userId": "01167841530696023488"
     },
     "user_tz": -330
    },
    "id": "8lncaVFphYR5",
    "outputId": "03a84ac1-7a4a-4290-c642-b92b730b44d4"
   },
   "outputs": [
    {
     "name": "stdout",
     "output_type": "stream",
     "text": [
      "<class 'pandas.core.frame.DataFrame'>\n",
      "RangeIndex: 21613 entries, 0 to 21612\n",
      "Data columns (total 21 columns):\n",
      " #   Column                                     Non-Null Count  Dtype  \n",
      "---  ------                                     --------------  -----  \n",
      " 0   ID                                         21613 non-null  int64  \n",
      " 1   Date House was Sold                        21613 non-null  object \n",
      " 2   Sale Price                                 21609 non-null  float64\n",
      " 3   No of Bedrooms                             21613 non-null  int64  \n",
      " 4   No of Bathrooms                            21609 non-null  float64\n",
      " 5   Flat Area (in Sqft)                        21604 non-null  float64\n",
      " 6   Lot Area (in Sqft)                         21604 non-null  float64\n",
      " 7   No of Floors                               21613 non-null  float64\n",
      " 8   Waterfront View                            21613 non-null  object \n",
      " 9   No of Times Visited                        21613 non-null  object \n",
      " 10  Condition of the House                     21613 non-null  object \n",
      " 11  Overall Grade                              21613 non-null  int64  \n",
      " 12  Area of the House from Basement (in Sqft)  21610 non-null  float64\n",
      " 13  Basement Area (in Sqft)                    21613 non-null  int64  \n",
      " 14  Age of House (in Years)                    21613 non-null  int64  \n",
      " 15  Renovated Year                             21613 non-null  int64  \n",
      " 16  Zipcode                                    21612 non-null  float64\n",
      " 17  Latitude                                   21612 non-null  float64\n",
      " 18  Longitude                                  21612 non-null  float64\n",
      " 19  Living Area after Renovation (in Sqft)     21612 non-null  float64\n",
      " 20  Lot Area after Renovation (in Sqft)        21613 non-null  int64  \n",
      "dtypes: float64(10), int64(7), object(4)\n",
      "memory usage: 3.5+ MB\n"
     ]
    }
   ],
   "source": [
    "data.info()"
   ]
  },
  {
   "cell_type": "code",
   "execution_count": 16,
   "metadata": {
    "colab": {},
    "colab_type": "code",
    "executionInfo": {
     "elapsed": 3998,
     "status": "ok",
     "timestamp": 1592370769821,
     "user": {
      "displayName": "Sharoon Saxena",
      "photoUrl": "https://lh3.googleusercontent.com/a-/AOh14GjyKz9rNCPkHi6QK8TjrjBFlTtaI9ngf0hIwgAl=s64",
      "userId": "01167841530696023488"
     },
     "user_tz": -330
    },
    "id": "z6xMLtXRdGbN"
   },
   "outputs": [],
   "source": [
    "#isolating numerical variables\n",
    "numerical_columns = ['No of Bathrooms', 'Flat Area (in Sqft)','Lot Area (in Sqft)',\n",
    "                     'Area of the House from Basement (in Sqft)','Latitude',\n",
    "                     'Longitude','Living Area after Renovation (in Sqft)']"
   ]
  },
  {
   "cell_type": "code",
   "execution_count": 17,
   "metadata": {
    "colab": {},
    "colab_type": "code",
    "executionInfo": {
     "elapsed": 3990,
     "status": "ok",
     "timestamp": 1592370769822,
     "user": {
      "displayName": "Sharoon Saxena",
      "photoUrl": "https://lh3.googleusercontent.com/a-/AOh14GjyKz9rNCPkHi6QK8TjrjBFlTtaI9ngf0hIwgAl=s64",
      "userId": "01167841530696023488"
     },
     "user_tz": -330
    },
    "id": "shZvE8UjvUrj"
   },
   "outputs": [],
   "source": [
    "#imputing missing values\n",
    "from sklearn.impute import SimpleImputer\n",
    "imputer = SimpleImputer(missing_values = np.nan, strategy = 'median')\n",
    "data[numerical_columns] = imputer.fit_transform(data[numerical_columns])"
   ]
  },
  {
   "cell_type": "code",
   "execution_count": 18,
   "metadata": {
    "colab": {
     "base_uri": "https://localhost:8080/",
     "height": 493
    },
    "colab_type": "code",
    "executionInfo": {
     "elapsed": 3979,
     "status": "ok",
     "timestamp": 1592370769823,
     "user": {
      "displayName": "Sharoon Saxena",
      "photoUrl": "https://lh3.googleusercontent.com/a-/AOh14GjyKz9rNCPkHi6QK8TjrjBFlTtaI9ngf0hIwgAl=s64",
      "userId": "01167841530696023488"
     },
     "user_tz": -330
    },
    "id": "g82g050tcOAF",
    "outputId": "5b1f6633-5a53-41aa-d6b0-fe23f191f8cd"
   },
   "outputs": [
    {
     "name": "stdout",
     "output_type": "stream",
     "text": [
      "<class 'pandas.core.frame.DataFrame'>\n",
      "RangeIndex: 21613 entries, 0 to 21612\n",
      "Data columns (total 21 columns):\n",
      " #   Column                                     Non-Null Count  Dtype  \n",
      "---  ------                                     --------------  -----  \n",
      " 0   ID                                         21613 non-null  int64  \n",
      " 1   Date House was Sold                        21613 non-null  object \n",
      " 2   Sale Price                                 21609 non-null  float64\n",
      " 3   No of Bedrooms                             21613 non-null  int64  \n",
      " 4   No of Bathrooms                            21613 non-null  float64\n",
      " 5   Flat Area (in Sqft)                        21613 non-null  float64\n",
      " 6   Lot Area (in Sqft)                         21613 non-null  float64\n",
      " 7   No of Floors                               21613 non-null  float64\n",
      " 8   Waterfront View                            21613 non-null  object \n",
      " 9   No of Times Visited                        21613 non-null  object \n",
      " 10  Condition of the House                     21613 non-null  object \n",
      " 11  Overall Grade                              21613 non-null  int64  \n",
      " 12  Area of the House from Basement (in Sqft)  21613 non-null  float64\n",
      " 13  Basement Area (in Sqft)                    21613 non-null  int64  \n",
      " 14  Age of House (in Years)                    21613 non-null  int64  \n",
      " 15  Renovated Year                             21613 non-null  int64  \n",
      " 16  Zipcode                                    21612 non-null  float64\n",
      " 17  Latitude                                   21613 non-null  float64\n",
      " 18  Longitude                                  21613 non-null  float64\n",
      " 19  Living Area after Renovation (in Sqft)     21613 non-null  float64\n",
      " 20  Lot Area after Renovation (in Sqft)        21613 non-null  int64  \n",
      "dtypes: float64(10), int64(7), object(4)\n",
      "memory usage: 3.5+ MB\n"
     ]
    }
   ],
   "source": [
    "data.info()"
   ]
  },
  {
   "cell_type": "markdown",
   "metadata": {
    "colab_type": "text",
    "id": "IwUBgj4NEEXY"
   },
   "source": [
    "# zipcode transform"
   ]
  },
  {
   "cell_type": "code",
   "execution_count": 19,
   "metadata": {
    "colab": {},
    "colab_type": "code",
    "executionInfo": {
     "elapsed": 3965,
     "status": "ok",
     "timestamp": 1592370769824,
     "user": {
      "displayName": "Sharoon Saxena",
      "photoUrl": "https://lh3.googleusercontent.com/a-/AOh14GjyKz9rNCPkHi6QK8TjrjBFlTtaI9ngf0hIwgAl=s64",
      "userId": "01167841530696023488"
     },
     "user_tz": -330
    },
    "id": "m1k4zpx9h2RI"
   },
   "outputs": [],
   "source": [
    "imputer = SimpleImputer(missing_values = np.nan, strategy = 'most_frequent')\n",
    "data['Zipcode'] = imputer.fit_transform(data['Zipcode'].values.reshape(-1,1))"
   ]
  },
  {
   "cell_type": "code",
   "execution_count": 20,
   "metadata": {
    "colab": {
     "base_uri": "https://localhost:8080/",
     "height": 34
    },
    "colab_type": "code",
    "executionInfo": {
     "elapsed": 3954,
     "status": "ok",
     "timestamp": 1592370769824,
     "user": {
      "displayName": "Sharoon Saxena",
      "photoUrl": "https://lh3.googleusercontent.com/a-/AOh14GjyKz9rNCPkHi6QK8TjrjBFlTtaI9ngf0hIwgAl=s64",
      "userId": "01167841530696023488"
     },
     "user_tz": -330
    },
    "id": "gVhVkXvltChX",
    "outputId": "fd1a91b9-3544-40ce-ba29-b5d11574d639"
   },
   "outputs": [
    {
     "data": {
      "text/plain": [
       "(21613,)"
      ]
     },
     "execution_count": 20,
     "metadata": {},
     "output_type": "execute_result"
    }
   ],
   "source": [
    "data['Zipcode'].shape"
   ]
  },
  {
   "cell_type": "code",
   "execution_count": 21,
   "metadata": {
    "colab": {
     "base_uri": "https://localhost:8080/",
     "height": 34
    },
    "colab_type": "code",
    "executionInfo": {
     "elapsed": 3939,
     "status": "ok",
     "timestamp": 1592370769825,
     "user": {
      "displayName": "Sharoon Saxena",
      "photoUrl": "https://lh3.googleusercontent.com/a-/AOh14GjyKz9rNCPkHi6QK8TjrjBFlTtaI9ngf0hIwgAl=s64",
      "userId": "01167841530696023488"
     },
     "user_tz": -330
    },
    "id": "iXtZY38Vxg9i",
    "outputId": "bc722049-649c-408e-9fa9-897ffb8df728"
   },
   "outputs": [
    {
     "data": {
      "text/plain": [
       "(21613, 1)"
      ]
     },
     "execution_count": 21,
     "metadata": {},
     "output_type": "execute_result"
    }
   ],
   "source": [
    "column = data[\"Zipcode\"].values.reshape(-1,1)\n",
    "column.shape"
   ]
  },
  {
   "cell_type": "code",
   "execution_count": 22,
   "metadata": {
    "colab": {},
    "colab_type": "code",
    "executionInfo": {
     "elapsed": 3925,
     "status": "ok",
     "timestamp": 1592370769825,
     "user": {
      "displayName": "Sharoon Saxena",
      "photoUrl": "https://lh3.googleusercontent.com/a-/AOh14GjyKz9rNCPkHi6QK8TjrjBFlTtaI9ngf0hIwgAl=s64",
      "userId": "01167841530696023488"
     },
     "user_tz": -330
    },
    "id": "S5sAxB3OwHll"
   },
   "outputs": [],
   "source": [
    "imputer = SimpleImputer(missing_values = np.nan, strategy = 'most_frequent')\n",
    "data['Zipcode'] = imputer.fit_transform(column)"
   ]
  },
  {
   "cell_type": "code",
   "execution_count": 23,
   "metadata": {
    "colab": {
     "base_uri": "https://localhost:8080/",
     "height": 493
    },
    "colab_type": "code",
    "executionInfo": {
     "elapsed": 3915,
     "status": "ok",
     "timestamp": 1592370769826,
     "user": {
      "displayName": "Sharoon Saxena",
      "photoUrl": "https://lh3.googleusercontent.com/a-/AOh14GjyKz9rNCPkHi6QK8TjrjBFlTtaI9ngf0hIwgAl=s64",
      "userId": "01167841530696023488"
     },
     "user_tz": -330
    },
    "id": "6zAZQlTixp3s",
    "outputId": "c47601ee-2678-4ba3-fd10-e5cd5339b7b2"
   },
   "outputs": [
    {
     "name": "stdout",
     "output_type": "stream",
     "text": [
      "<class 'pandas.core.frame.DataFrame'>\n",
      "RangeIndex: 21613 entries, 0 to 21612\n",
      "Data columns (total 21 columns):\n",
      " #   Column                                     Non-Null Count  Dtype  \n",
      "---  ------                                     --------------  -----  \n",
      " 0   ID                                         21613 non-null  int64  \n",
      " 1   Date House was Sold                        21613 non-null  object \n",
      " 2   Sale Price                                 21609 non-null  float64\n",
      " 3   No of Bedrooms                             21613 non-null  int64  \n",
      " 4   No of Bathrooms                            21613 non-null  float64\n",
      " 5   Flat Area (in Sqft)                        21613 non-null  float64\n",
      " 6   Lot Area (in Sqft)                         21613 non-null  float64\n",
      " 7   No of Floors                               21613 non-null  float64\n",
      " 8   Waterfront View                            21613 non-null  object \n",
      " 9   No of Times Visited                        21613 non-null  object \n",
      " 10  Condition of the House                     21613 non-null  object \n",
      " 11  Overall Grade                              21613 non-null  int64  \n",
      " 12  Area of the House from Basement (in Sqft)  21613 non-null  float64\n",
      " 13  Basement Area (in Sqft)                    21613 non-null  int64  \n",
      " 14  Age of House (in Years)                    21613 non-null  int64  \n",
      " 15  Renovated Year                             21613 non-null  int64  \n",
      " 16  Zipcode                                    21613 non-null  float64\n",
      " 17  Latitude                                   21613 non-null  float64\n",
      " 18  Longitude                                  21613 non-null  float64\n",
      " 19  Living Area after Renovation (in Sqft)     21613 non-null  float64\n",
      " 20  Lot Area after Renovation (in Sqft)        21613 non-null  int64  \n",
      "dtypes: float64(10), int64(7), object(4)\n",
      "memory usage: 3.5+ MB\n"
     ]
    }
   ],
   "source": [
    "data.info()"
   ]
  },
  {
   "cell_type": "markdown",
   "metadata": {
    "colab_type": "text",
    "id": "0KwCTERkEurY"
   },
   "source": [
    "# Other transformations"
   ]
  },
  {
   "cell_type": "code",
   "execution_count": 24,
   "metadata": {
    "colab": {
     "base_uri": "https://localhost:8080/",
     "height": 34
    },
    "colab_type": "code",
    "executionInfo": {
     "elapsed": 3902,
     "status": "ok",
     "timestamp": 1592370769827,
     "user": {
      "displayName": "Sharoon Saxena",
      "photoUrl": "https://lh3.googleusercontent.com/a-/AOh14GjyKz9rNCPkHi6QK8TjrjBFlTtaI9ngf0hIwgAl=s64",
      "userId": "01167841530696023488"
     },
     "user_tz": -330
    },
    "id": "L1QSLL0fC8m7",
    "outputId": "23886552-6dea-4eeb-a89e-6c5b2f9505fc"
   },
   "outputs": [
    {
     "data": {
      "text/plain": [
       "array(['None', 'Thrice', 'Four', 'Twice', 'Once'], dtype=object)"
      ]
     },
     "execution_count": 24,
     "metadata": {},
     "output_type": "execute_result"
    }
   ],
   "source": [
    "data['No of Times Visited'].unique()"
   ]
  },
  {
   "cell_type": "code",
   "execution_count": 25,
   "metadata": {
    "colab": {},
    "colab_type": "code",
    "executionInfo": {
     "elapsed": 3891,
     "status": "ok",
     "timestamp": 1592370769828,
     "user": {
      "displayName": "Sharoon Saxena",
      "photoUrl": "https://lh3.googleusercontent.com/a-/AOh14GjyKz9rNCPkHi6QK8TjrjBFlTtaI9ngf0hIwgAl=s64",
      "userId": "01167841530696023488"
     },
     "user_tz": -330
    },
    "id": "uGMpGbccuRTn"
   },
   "outputs": [],
   "source": [
    "#converting from string to categorical\n",
    "mapping = {'None' : \"0\",\n",
    "           'Once' : '1',\n",
    "           'Twice' : '2',\n",
    "           'Thrice' : '3',\n",
    "           'Four' : '4'}\n",
    "\n",
    "data['No of Times Visited'] = data['No of Times Visited'].map(mapping)"
   ]
  },
  {
   "cell_type": "code",
   "execution_count": 26,
   "metadata": {
    "colab": {
     "base_uri": "https://localhost:8080/",
     "height": 34
    },
    "colab_type": "code",
    "executionInfo": {
     "elapsed": 3882,
     "status": "ok",
     "timestamp": 1592370769829,
     "user": {
      "displayName": "Sharoon Saxena",
      "photoUrl": "https://lh3.googleusercontent.com/a-/AOh14GjyKz9rNCPkHi6QK8TjrjBFlTtaI9ngf0hIwgAl=s64",
      "userId": "01167841530696023488"
     },
     "user_tz": -330
    },
    "id": "m0I1D5jXu553",
    "outputId": "3edd0656-8a09-4f02-ba56-4b53ea10f119"
   },
   "outputs": [
    {
     "data": {
      "text/plain": [
       "array(['0', '3', '4', '2', '1'], dtype=object)"
      ]
     },
     "execution_count": 26,
     "metadata": {},
     "output_type": "execute_result"
    }
   ],
   "source": [
    "data['No of Times Visited'].unique()"
   ]
  },
  {
   "cell_type": "code",
   "execution_count": 27,
   "metadata": {
    "colab": {},
    "colab_type": "code",
    "executionInfo": {
     "elapsed": 3871,
     "status": "ok",
     "timestamp": 1592370769829,
     "user": {
      "displayName": "Sharoon Saxena",
      "photoUrl": "https://lh3.googleusercontent.com/a-/AOh14GjyKz9rNCPkHi6QK8TjrjBFlTtaI9ngf0hIwgAl=s64",
      "userId": "01167841530696023488"
     },
     "user_tz": -330
    },
    "id": "8ZoKhrG8wNWW"
   },
   "outputs": [],
   "source": [
    "#new variable creation\n",
    "data['Ever Renovated'] = np.where(data['Renovated Year'] == 0, 'No', 'Yes')"
   ]
  },
  {
   "cell_type": "code",
   "execution_count": 28,
   "metadata": {
    "colab": {
     "base_uri": "https://localhost:8080/",
     "height": 496
    },
    "colab_type": "code",
    "executionInfo": {
     "elapsed": 3861,
     "status": "ok",
     "timestamp": 1592370769830,
     "user": {
      "displayName": "Sharoon Saxena",
      "photoUrl": "https://lh3.googleusercontent.com/a-/AOh14GjyKz9rNCPkHi6QK8TjrjBFlTtaI9ngf0hIwgAl=s64",
      "userId": "01167841530696023488"
     },
     "user_tz": -330
    },
    "id": "bJJzbLKZwji2",
    "outputId": "61adc7f3-0097-420a-aef1-96aee2f99f71"
   },
   "outputs": [
    {
     "data": {
      "text/html": [
       "<div>\n",
       "<style scoped>\n",
       "    .dataframe tbody tr th:only-of-type {\n",
       "        vertical-align: middle;\n",
       "    }\n",
       "\n",
       "    .dataframe tbody tr th {\n",
       "        vertical-align: top;\n",
       "    }\n",
       "\n",
       "    .dataframe thead th {\n",
       "        text-align: right;\n",
       "    }\n",
       "</style>\n",
       "<table border=\"1\" class=\"dataframe\">\n",
       "  <thead>\n",
       "    <tr style=\"text-align: right;\">\n",
       "      <th></th>\n",
       "      <th>ID</th>\n",
       "      <th>Date House was Sold</th>\n",
       "      <th>Sale Price</th>\n",
       "      <th>No of Bedrooms</th>\n",
       "      <th>No of Bathrooms</th>\n",
       "      <th>Flat Area (in Sqft)</th>\n",
       "      <th>Lot Area (in Sqft)</th>\n",
       "      <th>No of Floors</th>\n",
       "      <th>Waterfront View</th>\n",
       "      <th>No of Times Visited</th>\n",
       "      <th>...</th>\n",
       "      <th>Area of the House from Basement (in Sqft)</th>\n",
       "      <th>Basement Area (in Sqft)</th>\n",
       "      <th>Age of House (in Years)</th>\n",
       "      <th>Renovated Year</th>\n",
       "      <th>Zipcode</th>\n",
       "      <th>Latitude</th>\n",
       "      <th>Longitude</th>\n",
       "      <th>Living Area after Renovation (in Sqft)</th>\n",
       "      <th>Lot Area after Renovation (in Sqft)</th>\n",
       "      <th>Ever Renovated</th>\n",
       "    </tr>\n",
       "  </thead>\n",
       "  <tbody>\n",
       "    <tr>\n",
       "      <th>0</th>\n",
       "      <td>7129300520</td>\n",
       "      <td>14 October 2017</td>\n",
       "      <td>221900.0</td>\n",
       "      <td>3</td>\n",
       "      <td>1.00</td>\n",
       "      <td>1180.0</td>\n",
       "      <td>5650.0</td>\n",
       "      <td>1.0</td>\n",
       "      <td>No</td>\n",
       "      <td>0</td>\n",
       "      <td>...</td>\n",
       "      <td>1180.0</td>\n",
       "      <td>0</td>\n",
       "      <td>63</td>\n",
       "      <td>0</td>\n",
       "      <td>98178.0</td>\n",
       "      <td>47.5112</td>\n",
       "      <td>-122.257</td>\n",
       "      <td>1340.0</td>\n",
       "      <td>5650</td>\n",
       "      <td>No</td>\n",
       "    </tr>\n",
       "    <tr>\n",
       "      <th>1</th>\n",
       "      <td>6414100192</td>\n",
       "      <td>14 December 2017</td>\n",
       "      <td>538000.0</td>\n",
       "      <td>3</td>\n",
       "      <td>2.25</td>\n",
       "      <td>2570.0</td>\n",
       "      <td>7242.0</td>\n",
       "      <td>2.0</td>\n",
       "      <td>No</td>\n",
       "      <td>0</td>\n",
       "      <td>...</td>\n",
       "      <td>2170.0</td>\n",
       "      <td>400</td>\n",
       "      <td>67</td>\n",
       "      <td>1991</td>\n",
       "      <td>98125.0</td>\n",
       "      <td>47.7210</td>\n",
       "      <td>-122.319</td>\n",
       "      <td>1690.0</td>\n",
       "      <td>7639</td>\n",
       "      <td>Yes</td>\n",
       "    </tr>\n",
       "    <tr>\n",
       "      <th>2</th>\n",
       "      <td>5631500400</td>\n",
       "      <td>15 February 2016</td>\n",
       "      <td>180000.0</td>\n",
       "      <td>2</td>\n",
       "      <td>1.00</td>\n",
       "      <td>770.0</td>\n",
       "      <td>10000.0</td>\n",
       "      <td>1.0</td>\n",
       "      <td>No</td>\n",
       "      <td>0</td>\n",
       "      <td>...</td>\n",
       "      <td>770.0</td>\n",
       "      <td>0</td>\n",
       "      <td>85</td>\n",
       "      <td>0</td>\n",
       "      <td>98028.0</td>\n",
       "      <td>47.7379</td>\n",
       "      <td>-122.233</td>\n",
       "      <td>2720.0</td>\n",
       "      <td>8062</td>\n",
       "      <td>No</td>\n",
       "    </tr>\n",
       "    <tr>\n",
       "      <th>3</th>\n",
       "      <td>2487200875</td>\n",
       "      <td>14 December 2017</td>\n",
       "      <td>604000.0</td>\n",
       "      <td>4</td>\n",
       "      <td>3.00</td>\n",
       "      <td>1960.0</td>\n",
       "      <td>5000.0</td>\n",
       "      <td>1.0</td>\n",
       "      <td>No</td>\n",
       "      <td>0</td>\n",
       "      <td>...</td>\n",
       "      <td>1050.0</td>\n",
       "      <td>910</td>\n",
       "      <td>53</td>\n",
       "      <td>0</td>\n",
       "      <td>98136.0</td>\n",
       "      <td>47.5208</td>\n",
       "      <td>-122.393</td>\n",
       "      <td>1360.0</td>\n",
       "      <td>5000</td>\n",
       "      <td>No</td>\n",
       "    </tr>\n",
       "    <tr>\n",
       "      <th>4</th>\n",
       "      <td>1954400510</td>\n",
       "      <td>15 February 2016</td>\n",
       "      <td>510000.0</td>\n",
       "      <td>3</td>\n",
       "      <td>2.00</td>\n",
       "      <td>1680.0</td>\n",
       "      <td>8080.0</td>\n",
       "      <td>1.0</td>\n",
       "      <td>No</td>\n",
       "      <td>0</td>\n",
       "      <td>...</td>\n",
       "      <td>1680.0</td>\n",
       "      <td>0</td>\n",
       "      <td>31</td>\n",
       "      <td>0</td>\n",
       "      <td>98074.0</td>\n",
       "      <td>47.6168</td>\n",
       "      <td>-122.045</td>\n",
       "      <td>1800.0</td>\n",
       "      <td>7503</td>\n",
       "      <td>No</td>\n",
       "    </tr>\n",
       "  </tbody>\n",
       "</table>\n",
       "<p>5 rows × 22 columns</p>\n",
       "</div>"
      ],
      "text/plain": [
       "           ID Date House was Sold  Sale Price  No of Bedrooms  \\\n",
       "0  7129300520     14 October 2017    221900.0               3   \n",
       "1  6414100192    14 December 2017    538000.0               3   \n",
       "2  5631500400    15 February 2016    180000.0               2   \n",
       "3  2487200875    14 December 2017    604000.0               4   \n",
       "4  1954400510    15 February 2016    510000.0               3   \n",
       "\n",
       "   No of Bathrooms  Flat Area (in Sqft)  Lot Area (in Sqft)  No of Floors  \\\n",
       "0             1.00               1180.0              5650.0           1.0   \n",
       "1             2.25               2570.0              7242.0           2.0   \n",
       "2             1.00                770.0             10000.0           1.0   \n",
       "3             3.00               1960.0              5000.0           1.0   \n",
       "4             2.00               1680.0              8080.0           1.0   \n",
       "\n",
       "  Waterfront View No of Times Visited  ...  \\\n",
       "0              No                   0  ...   \n",
       "1              No                   0  ...   \n",
       "2              No                   0  ...   \n",
       "3              No                   0  ...   \n",
       "4              No                   0  ...   \n",
       "\n",
       "  Area of the House from Basement (in Sqft)  Basement Area (in Sqft)  \\\n",
       "0                                    1180.0                        0   \n",
       "1                                    2170.0                      400   \n",
       "2                                     770.0                        0   \n",
       "3                                    1050.0                      910   \n",
       "4                                    1680.0                        0   \n",
       "\n",
       "   Age of House (in Years)  Renovated Year  Zipcode  Latitude  Longitude  \\\n",
       "0                       63               0  98178.0   47.5112   -122.257   \n",
       "1                       67            1991  98125.0   47.7210   -122.319   \n",
       "2                       85               0  98028.0   47.7379   -122.233   \n",
       "3                       53               0  98136.0   47.5208   -122.393   \n",
       "4                       31               0  98074.0   47.6168   -122.045   \n",
       "\n",
       "   Living Area after Renovation (in Sqft)  \\\n",
       "0                                  1340.0   \n",
       "1                                  1690.0   \n",
       "2                                  2720.0   \n",
       "3                                  1360.0   \n",
       "4                                  1800.0   \n",
       "\n",
       "   Lot Area after Renovation (in Sqft)  Ever Renovated  \n",
       "0                                 5650              No  \n",
       "1                                 7639             Yes  \n",
       "2                                 8062              No  \n",
       "3                                 5000              No  \n",
       "4                                 7503              No  \n",
       "\n",
       "[5 rows x 22 columns]"
      ]
     },
     "execution_count": 28,
     "metadata": {},
     "output_type": "execute_result"
    }
   ],
   "source": [
    "data.head()"
   ]
  },
  {
   "cell_type": "code",
   "execution_count": 29,
   "metadata": {
    "colab": {},
    "colab_type": "code",
    "executionInfo": {
     "elapsed": 6496,
     "status": "ok",
     "timestamp": 1592370772490,
     "user": {
      "displayName": "Sharoon Saxena",
      "photoUrl": "https://lh3.googleusercontent.com/a-/AOh14GjyKz9rNCPkHi6QK8TjrjBFlTtaI9ngf0hIwgAl=s64",
      "userId": "01167841530696023488"
     },
     "user_tz": -330
    },
    "id": "pzoi4XO0yBsr"
   },
   "outputs": [],
   "source": [
    "#manipulating datetime variable\n",
    "data['Purchase Year'] = pd.DatetimeIndex(data['Date House was Sold']).year"
   ]
  },
  {
   "cell_type": "code",
   "execution_count": 30,
   "metadata": {
    "colab": {},
    "colab_type": "code",
    "executionInfo": {
     "elapsed": 6485,
     "status": "ok",
     "timestamp": 1592370772490,
     "user": {
      "displayName": "Sharoon Saxena",
      "photoUrl": "https://lh3.googleusercontent.com/a-/AOh14GjyKz9rNCPkHi6QK8TjrjBFlTtaI9ngf0hIwgAl=s64",
      "userId": "01167841530696023488"
     },
     "user_tz": -330
    },
    "id": "AoW6XaxP3ivz"
   },
   "outputs": [],
   "source": [
    "data['Years Since Renovation'] = np.where(data['Ever Renovated'] == 'Yes',\n",
    "                                          abs(data['Purchase Year'] -\n",
    "                                          data['Renovated Year']), 0)"
   ]
  },
  {
   "cell_type": "code",
   "execution_count": 31,
   "metadata": {
    "colab": {
     "base_uri": "https://localhost:8080/",
     "height": 496
    },
    "colab_type": "code",
    "executionInfo": {
     "elapsed": 6466,
     "status": "ok",
     "timestamp": 1592370772491,
     "user": {
      "displayName": "Sharoon Saxena",
      "photoUrl": "https://lh3.googleusercontent.com/a-/AOh14GjyKz9rNCPkHi6QK8TjrjBFlTtaI9ngf0hIwgAl=s64",
      "userId": "01167841530696023488"
     },
     "user_tz": -330
    },
    "id": "pkIhSmFl4V5O",
    "outputId": "93e0b77f-f37c-41b1-f516-344c05b282fa"
   },
   "outputs": [
    {
     "data": {
      "text/html": [
       "<div>\n",
       "<style scoped>\n",
       "    .dataframe tbody tr th:only-of-type {\n",
       "        vertical-align: middle;\n",
       "    }\n",
       "\n",
       "    .dataframe tbody tr th {\n",
       "        vertical-align: top;\n",
       "    }\n",
       "\n",
       "    .dataframe thead th {\n",
       "        text-align: right;\n",
       "    }\n",
       "</style>\n",
       "<table border=\"1\" class=\"dataframe\">\n",
       "  <thead>\n",
       "    <tr style=\"text-align: right;\">\n",
       "      <th></th>\n",
       "      <th>ID</th>\n",
       "      <th>Date House was Sold</th>\n",
       "      <th>Sale Price</th>\n",
       "      <th>No of Bedrooms</th>\n",
       "      <th>No of Bathrooms</th>\n",
       "      <th>Flat Area (in Sqft)</th>\n",
       "      <th>Lot Area (in Sqft)</th>\n",
       "      <th>No of Floors</th>\n",
       "      <th>Waterfront View</th>\n",
       "      <th>No of Times Visited</th>\n",
       "      <th>...</th>\n",
       "      <th>Age of House (in Years)</th>\n",
       "      <th>Renovated Year</th>\n",
       "      <th>Zipcode</th>\n",
       "      <th>Latitude</th>\n",
       "      <th>Longitude</th>\n",
       "      <th>Living Area after Renovation (in Sqft)</th>\n",
       "      <th>Lot Area after Renovation (in Sqft)</th>\n",
       "      <th>Ever Renovated</th>\n",
       "      <th>Purchase Year</th>\n",
       "      <th>Years Since Renovation</th>\n",
       "    </tr>\n",
       "  </thead>\n",
       "  <tbody>\n",
       "    <tr>\n",
       "      <th>0</th>\n",
       "      <td>7129300520</td>\n",
       "      <td>14 October 2017</td>\n",
       "      <td>221900.0</td>\n",
       "      <td>3</td>\n",
       "      <td>1.00</td>\n",
       "      <td>1180.0</td>\n",
       "      <td>5650.0</td>\n",
       "      <td>1.0</td>\n",
       "      <td>No</td>\n",
       "      <td>0</td>\n",
       "      <td>...</td>\n",
       "      <td>63</td>\n",
       "      <td>0</td>\n",
       "      <td>98178.0</td>\n",
       "      <td>47.5112</td>\n",
       "      <td>-122.257</td>\n",
       "      <td>1340.0</td>\n",
       "      <td>5650</td>\n",
       "      <td>No</td>\n",
       "      <td>2017</td>\n",
       "      <td>0</td>\n",
       "    </tr>\n",
       "    <tr>\n",
       "      <th>1</th>\n",
       "      <td>6414100192</td>\n",
       "      <td>14 December 2017</td>\n",
       "      <td>538000.0</td>\n",
       "      <td>3</td>\n",
       "      <td>2.25</td>\n",
       "      <td>2570.0</td>\n",
       "      <td>7242.0</td>\n",
       "      <td>2.0</td>\n",
       "      <td>No</td>\n",
       "      <td>0</td>\n",
       "      <td>...</td>\n",
       "      <td>67</td>\n",
       "      <td>1991</td>\n",
       "      <td>98125.0</td>\n",
       "      <td>47.7210</td>\n",
       "      <td>-122.319</td>\n",
       "      <td>1690.0</td>\n",
       "      <td>7639</td>\n",
       "      <td>Yes</td>\n",
       "      <td>2017</td>\n",
       "      <td>26</td>\n",
       "    </tr>\n",
       "    <tr>\n",
       "      <th>2</th>\n",
       "      <td>5631500400</td>\n",
       "      <td>15 February 2016</td>\n",
       "      <td>180000.0</td>\n",
       "      <td>2</td>\n",
       "      <td>1.00</td>\n",
       "      <td>770.0</td>\n",
       "      <td>10000.0</td>\n",
       "      <td>1.0</td>\n",
       "      <td>No</td>\n",
       "      <td>0</td>\n",
       "      <td>...</td>\n",
       "      <td>85</td>\n",
       "      <td>0</td>\n",
       "      <td>98028.0</td>\n",
       "      <td>47.7379</td>\n",
       "      <td>-122.233</td>\n",
       "      <td>2720.0</td>\n",
       "      <td>8062</td>\n",
       "      <td>No</td>\n",
       "      <td>2016</td>\n",
       "      <td>0</td>\n",
       "    </tr>\n",
       "    <tr>\n",
       "      <th>3</th>\n",
       "      <td>2487200875</td>\n",
       "      <td>14 December 2017</td>\n",
       "      <td>604000.0</td>\n",
       "      <td>4</td>\n",
       "      <td>3.00</td>\n",
       "      <td>1960.0</td>\n",
       "      <td>5000.0</td>\n",
       "      <td>1.0</td>\n",
       "      <td>No</td>\n",
       "      <td>0</td>\n",
       "      <td>...</td>\n",
       "      <td>53</td>\n",
       "      <td>0</td>\n",
       "      <td>98136.0</td>\n",
       "      <td>47.5208</td>\n",
       "      <td>-122.393</td>\n",
       "      <td>1360.0</td>\n",
       "      <td>5000</td>\n",
       "      <td>No</td>\n",
       "      <td>2017</td>\n",
       "      <td>0</td>\n",
       "    </tr>\n",
       "    <tr>\n",
       "      <th>4</th>\n",
       "      <td>1954400510</td>\n",
       "      <td>15 February 2016</td>\n",
       "      <td>510000.0</td>\n",
       "      <td>3</td>\n",
       "      <td>2.00</td>\n",
       "      <td>1680.0</td>\n",
       "      <td>8080.0</td>\n",
       "      <td>1.0</td>\n",
       "      <td>No</td>\n",
       "      <td>0</td>\n",
       "      <td>...</td>\n",
       "      <td>31</td>\n",
       "      <td>0</td>\n",
       "      <td>98074.0</td>\n",
       "      <td>47.6168</td>\n",
       "      <td>-122.045</td>\n",
       "      <td>1800.0</td>\n",
       "      <td>7503</td>\n",
       "      <td>No</td>\n",
       "      <td>2016</td>\n",
       "      <td>0</td>\n",
       "    </tr>\n",
       "  </tbody>\n",
       "</table>\n",
       "<p>5 rows × 24 columns</p>\n",
       "</div>"
      ],
      "text/plain": [
       "           ID Date House was Sold  Sale Price  No of Bedrooms  \\\n",
       "0  7129300520     14 October 2017    221900.0               3   \n",
       "1  6414100192    14 December 2017    538000.0               3   \n",
       "2  5631500400    15 February 2016    180000.0               2   \n",
       "3  2487200875    14 December 2017    604000.0               4   \n",
       "4  1954400510    15 February 2016    510000.0               3   \n",
       "\n",
       "   No of Bathrooms  Flat Area (in Sqft)  Lot Area (in Sqft)  No of Floors  \\\n",
       "0             1.00               1180.0              5650.0           1.0   \n",
       "1             2.25               2570.0              7242.0           2.0   \n",
       "2             1.00                770.0             10000.0           1.0   \n",
       "3             3.00               1960.0              5000.0           1.0   \n",
       "4             2.00               1680.0              8080.0           1.0   \n",
       "\n",
       "  Waterfront View No of Times Visited  ... Age of House (in Years)  \\\n",
       "0              No                   0  ...                      63   \n",
       "1              No                   0  ...                      67   \n",
       "2              No                   0  ...                      85   \n",
       "3              No                   0  ...                      53   \n",
       "4              No                   0  ...                      31   \n",
       "\n",
       "   Renovated Year  Zipcode  Latitude  Longitude  \\\n",
       "0               0  98178.0   47.5112   -122.257   \n",
       "1            1991  98125.0   47.7210   -122.319   \n",
       "2               0  98028.0   47.7379   -122.233   \n",
       "3               0  98136.0   47.5208   -122.393   \n",
       "4               0  98074.0   47.6168   -122.045   \n",
       "\n",
       "   Living Area after Renovation (in Sqft)  \\\n",
       "0                                  1340.0   \n",
       "1                                  1690.0   \n",
       "2                                  2720.0   \n",
       "3                                  1360.0   \n",
       "4                                  1800.0   \n",
       "\n",
       "   Lot Area after Renovation (in Sqft)  Ever Renovated  Purchase Year  \\\n",
       "0                                 5650              No           2017   \n",
       "1                                 7639             Yes           2017   \n",
       "2                                 8062              No           2016   \n",
       "3                                 5000              No           2017   \n",
       "4                                 7503              No           2016   \n",
       "\n",
       "   Years Since Renovation  \n",
       "0                       0  \n",
       "1                      26  \n",
       "2                       0  \n",
       "3                       0  \n",
       "4                       0  \n",
       "\n",
       "[5 rows x 24 columns]"
      ]
     },
     "execution_count": 31,
     "metadata": {},
     "output_type": "execute_result"
    }
   ],
   "source": [
    "data.head()"
   ]
  },
  {
   "cell_type": "code",
   "execution_count": 32,
   "metadata": {
    "colab": {},
    "colab_type": "code",
    "executionInfo": {
     "elapsed": 6452,
     "status": "ok",
     "timestamp": 1592370772491,
     "user": {
      "displayName": "Sharoon Saxena",
      "photoUrl": "https://lh3.googleusercontent.com/a-/AOh14GjyKz9rNCPkHi6QK8TjrjBFlTtaI9ngf0hIwgAl=s64",
      "userId": "01167841530696023488"
     },
     "user_tz": -330
    },
    "id": "nOiEshrD4qk4"
   },
   "outputs": [],
   "source": [
    "#dropping redundant variables\n",
    "data.drop( columns = ['Purchase Year', 'Date House was Sold', 'Renovated Year'], inplace = True)"
   ]
  },
  {
   "cell_type": "code",
   "execution_count": 33,
   "metadata": {
    "colab": {
     "base_uri": "https://localhost:8080/",
     "height": 326
    },
    "colab_type": "code",
    "executionInfo": {
     "elapsed": 6440,
     "status": "ok",
     "timestamp": 1592370772492,
     "user": {
      "displayName": "Sharoon Saxena",
      "photoUrl": "https://lh3.googleusercontent.com/a-/AOh14GjyKz9rNCPkHi6QK8TjrjBFlTtaI9ngf0hIwgAl=s64",
      "userId": "01167841530696023488"
     },
     "user_tz": -330
    },
    "id": "doqRXx7a5NhH",
    "outputId": "94a1e9f3-0d61-4d90-c288-1f1c6b54f4c0"
   },
   "outputs": [
    {
     "data": {
      "text/html": [
       "<div>\n",
       "<style scoped>\n",
       "    .dataframe tbody tr th:only-of-type {\n",
       "        vertical-align: middle;\n",
       "    }\n",
       "\n",
       "    .dataframe tbody tr th {\n",
       "        vertical-align: top;\n",
       "    }\n",
       "\n",
       "    .dataframe thead th {\n",
       "        text-align: right;\n",
       "    }\n",
       "</style>\n",
       "<table border=\"1\" class=\"dataframe\">\n",
       "  <thead>\n",
       "    <tr style=\"text-align: right;\">\n",
       "      <th></th>\n",
       "      <th>ID</th>\n",
       "      <th>Sale Price</th>\n",
       "      <th>No of Bedrooms</th>\n",
       "      <th>No of Bathrooms</th>\n",
       "      <th>Flat Area (in Sqft)</th>\n",
       "      <th>Lot Area (in Sqft)</th>\n",
       "      <th>No of Floors</th>\n",
       "      <th>Waterfront View</th>\n",
       "      <th>No of Times Visited</th>\n",
       "      <th>Condition of the House</th>\n",
       "      <th>...</th>\n",
       "      <th>Area of the House from Basement (in Sqft)</th>\n",
       "      <th>Basement Area (in Sqft)</th>\n",
       "      <th>Age of House (in Years)</th>\n",
       "      <th>Zipcode</th>\n",
       "      <th>Latitude</th>\n",
       "      <th>Longitude</th>\n",
       "      <th>Living Area after Renovation (in Sqft)</th>\n",
       "      <th>Lot Area after Renovation (in Sqft)</th>\n",
       "      <th>Ever Renovated</th>\n",
       "      <th>Years Since Renovation</th>\n",
       "    </tr>\n",
       "  </thead>\n",
       "  <tbody>\n",
       "    <tr>\n",
       "      <th>0</th>\n",
       "      <td>7129300520</td>\n",
       "      <td>221900.0</td>\n",
       "      <td>3</td>\n",
       "      <td>1.00</td>\n",
       "      <td>1180.0</td>\n",
       "      <td>5650.0</td>\n",
       "      <td>1.0</td>\n",
       "      <td>No</td>\n",
       "      <td>0</td>\n",
       "      <td>Fair</td>\n",
       "      <td>...</td>\n",
       "      <td>1180.0</td>\n",
       "      <td>0</td>\n",
       "      <td>63</td>\n",
       "      <td>98178.0</td>\n",
       "      <td>47.5112</td>\n",
       "      <td>-122.257</td>\n",
       "      <td>1340.0</td>\n",
       "      <td>5650</td>\n",
       "      <td>No</td>\n",
       "      <td>0</td>\n",
       "    </tr>\n",
       "    <tr>\n",
       "      <th>1</th>\n",
       "      <td>6414100192</td>\n",
       "      <td>538000.0</td>\n",
       "      <td>3</td>\n",
       "      <td>2.25</td>\n",
       "      <td>2570.0</td>\n",
       "      <td>7242.0</td>\n",
       "      <td>2.0</td>\n",
       "      <td>No</td>\n",
       "      <td>0</td>\n",
       "      <td>Fair</td>\n",
       "      <td>...</td>\n",
       "      <td>2170.0</td>\n",
       "      <td>400</td>\n",
       "      <td>67</td>\n",
       "      <td>98125.0</td>\n",
       "      <td>47.7210</td>\n",
       "      <td>-122.319</td>\n",
       "      <td>1690.0</td>\n",
       "      <td>7639</td>\n",
       "      <td>Yes</td>\n",
       "      <td>26</td>\n",
       "    </tr>\n",
       "    <tr>\n",
       "      <th>2</th>\n",
       "      <td>5631500400</td>\n",
       "      <td>180000.0</td>\n",
       "      <td>2</td>\n",
       "      <td>1.00</td>\n",
       "      <td>770.0</td>\n",
       "      <td>10000.0</td>\n",
       "      <td>1.0</td>\n",
       "      <td>No</td>\n",
       "      <td>0</td>\n",
       "      <td>Fair</td>\n",
       "      <td>...</td>\n",
       "      <td>770.0</td>\n",
       "      <td>0</td>\n",
       "      <td>85</td>\n",
       "      <td>98028.0</td>\n",
       "      <td>47.7379</td>\n",
       "      <td>-122.233</td>\n",
       "      <td>2720.0</td>\n",
       "      <td>8062</td>\n",
       "      <td>No</td>\n",
       "      <td>0</td>\n",
       "    </tr>\n",
       "    <tr>\n",
       "      <th>3</th>\n",
       "      <td>2487200875</td>\n",
       "      <td>604000.0</td>\n",
       "      <td>4</td>\n",
       "      <td>3.00</td>\n",
       "      <td>1960.0</td>\n",
       "      <td>5000.0</td>\n",
       "      <td>1.0</td>\n",
       "      <td>No</td>\n",
       "      <td>0</td>\n",
       "      <td>Excellent</td>\n",
       "      <td>...</td>\n",
       "      <td>1050.0</td>\n",
       "      <td>910</td>\n",
       "      <td>53</td>\n",
       "      <td>98136.0</td>\n",
       "      <td>47.5208</td>\n",
       "      <td>-122.393</td>\n",
       "      <td>1360.0</td>\n",
       "      <td>5000</td>\n",
       "      <td>No</td>\n",
       "      <td>0</td>\n",
       "    </tr>\n",
       "    <tr>\n",
       "      <th>4</th>\n",
       "      <td>1954400510</td>\n",
       "      <td>510000.0</td>\n",
       "      <td>3</td>\n",
       "      <td>2.00</td>\n",
       "      <td>1680.0</td>\n",
       "      <td>8080.0</td>\n",
       "      <td>1.0</td>\n",
       "      <td>No</td>\n",
       "      <td>0</td>\n",
       "      <td>Fair</td>\n",
       "      <td>...</td>\n",
       "      <td>1680.0</td>\n",
       "      <td>0</td>\n",
       "      <td>31</td>\n",
       "      <td>98074.0</td>\n",
       "      <td>47.6168</td>\n",
       "      <td>-122.045</td>\n",
       "      <td>1800.0</td>\n",
       "      <td>7503</td>\n",
       "      <td>No</td>\n",
       "      <td>0</td>\n",
       "    </tr>\n",
       "  </tbody>\n",
       "</table>\n",
       "<p>5 rows × 21 columns</p>\n",
       "</div>"
      ],
      "text/plain": [
       "           ID  Sale Price  No of Bedrooms  No of Bathrooms  \\\n",
       "0  7129300520    221900.0               3             1.00   \n",
       "1  6414100192    538000.0               3             2.25   \n",
       "2  5631500400    180000.0               2             1.00   \n",
       "3  2487200875    604000.0               4             3.00   \n",
       "4  1954400510    510000.0               3             2.00   \n",
       "\n",
       "   Flat Area (in Sqft)  Lot Area (in Sqft)  No of Floors Waterfront View  \\\n",
       "0               1180.0              5650.0           1.0              No   \n",
       "1               2570.0              7242.0           2.0              No   \n",
       "2                770.0             10000.0           1.0              No   \n",
       "3               1960.0              5000.0           1.0              No   \n",
       "4               1680.0              8080.0           1.0              No   \n",
       "\n",
       "  No of Times Visited Condition of the House  ...  \\\n",
       "0                   0                   Fair  ...   \n",
       "1                   0                   Fair  ...   \n",
       "2                   0                   Fair  ...   \n",
       "3                   0              Excellent  ...   \n",
       "4                   0                   Fair  ...   \n",
       "\n",
       "   Area of the House from Basement (in Sqft)  Basement Area (in Sqft)  \\\n",
       "0                                     1180.0                        0   \n",
       "1                                     2170.0                      400   \n",
       "2                                      770.0                        0   \n",
       "3                                     1050.0                      910   \n",
       "4                                     1680.0                        0   \n",
       "\n",
       "   Age of House (in Years)  Zipcode  Latitude  Longitude  \\\n",
       "0                       63  98178.0   47.5112   -122.257   \n",
       "1                       67  98125.0   47.7210   -122.319   \n",
       "2                       85  98028.0   47.7379   -122.233   \n",
       "3                       53  98136.0   47.5208   -122.393   \n",
       "4                       31  98074.0   47.6168   -122.045   \n",
       "\n",
       "   Living Area after Renovation (in Sqft)  \\\n",
       "0                                  1340.0   \n",
       "1                                  1690.0   \n",
       "2                                  2720.0   \n",
       "3                                  1360.0   \n",
       "4                                  1800.0   \n",
       "\n",
       "   Lot Area after Renovation (in Sqft)  Ever Renovated Years Since Renovation  \n",
       "0                                 5650              No                      0  \n",
       "1                                 7639             Yes                     26  \n",
       "2                                 8062              No                      0  \n",
       "3                                 5000              No                      0  \n",
       "4                                 7503              No                      0  \n",
       "\n",
       "[5 rows x 21 columns]"
      ]
     },
     "execution_count": 33,
     "metadata": {},
     "output_type": "execute_result"
    }
   ],
   "source": [
    "data.head()"
   ]
  },
  {
   "cell_type": "markdown",
   "metadata": {
    "colab_type": "text",
    "id": "xLgGAmfzFMAL"
   },
   "source": [
    "# zipcodebin"
   ]
  },
  {
   "cell_type": "code",
   "execution_count": 34,
   "metadata": {
    "colab": {},
    "colab_type": "code",
    "executionInfo": {
     "elapsed": 6426,
     "status": "ok",
     "timestamp": 1592370772492,
     "user": {
      "displayName": "Sharoon Saxena",
      "photoUrl": "https://lh3.googleusercontent.com/a-/AOh14GjyKz9rNCPkHi6QK8TjrjBFlTtaI9ngf0hIwgAl=s64",
      "userId": "01167841530696023488"
     },
     "user_tz": -330
    },
    "id": "yYKA8_Tv1yUl"
   },
   "outputs": [],
   "source": [
    "data.drop( columns = 'ID', inplace = True)"
   ]
  },
  {
   "cell_type": "code",
   "execution_count": 35,
   "metadata": {
    "colab": {
     "base_uri": "https://localhost:8080/",
     "height": 204
    },
    "colab_type": "code",
    "executionInfo": {
     "elapsed": 6412,
     "status": "ok",
     "timestamp": 1592370772493,
     "user": {
      "displayName": "Sharoon Saxena",
      "photoUrl": "https://lh3.googleusercontent.com/a-/AOh14GjyKz9rNCPkHi6QK8TjrjBFlTtaI9ngf0hIwgAl=s64",
      "userId": "01167841530696023488"
     },
     "user_tz": -330
    },
    "id": "YMiyBZ8e2A3D",
    "outputId": "ed97c390-0a8c-41e0-8003-94ac936bd332"
   },
   "outputs": [
    {
     "data": {
      "text/plain": [
       "0         Fair\n",
       "1         Fair\n",
       "2         Fair\n",
       "3    Excellent\n",
       "4         Fair\n",
       "5         Fair\n",
       "6         Fair\n",
       "7         Fair\n",
       "8         Fair\n",
       "9         Fair\n",
       "Name: Condition of the House, dtype: object"
      ]
     },
     "execution_count": 35,
     "metadata": {},
     "output_type": "execute_result"
    }
   ],
   "source": [
    "data['Condition of the House'].head(10)"
   ]
  },
  {
   "cell_type": "code",
   "execution_count": 36,
   "metadata": {
    "colab": {
     "base_uri": "https://localhost:8080/",
     "height": 119
    },
    "colab_type": "code",
    "executionInfo": {
     "elapsed": 6398,
     "status": "ok",
     "timestamp": 1592370772493,
     "user": {
      "displayName": "Sharoon Saxena",
      "photoUrl": "https://lh3.googleusercontent.com/a-/AOh14GjyKz9rNCPkHi6QK8TjrjBFlTtaI9ngf0hIwgAl=s64",
      "userId": "01167841530696023488"
     },
     "user_tz": -330
    },
    "id": "wrDpvMl_2Qb1",
    "outputId": "ed44769f-e7f7-469f-b316-6e5d5589bb3e"
   },
   "outputs": [
    {
     "data": {
      "text/plain": [
       "Fair         14031\n",
       "Good          5679\n",
       "Excellent     1701\n",
       "Okay           172\n",
       "Bad             30\n",
       "Name: Condition of the House, dtype: int64"
      ]
     },
     "execution_count": 36,
     "metadata": {},
     "output_type": "execute_result"
    }
   ],
   "source": [
    "data['Condition of the House'].value_counts()"
   ]
  },
  {
   "cell_type": "code",
   "execution_count": 37,
   "metadata": {
    "colab": {
     "base_uri": "https://localhost:8080/",
     "height": 332
    },
    "colab_type": "code",
    "executionInfo": {
     "elapsed": 6387,
     "status": "ok",
     "timestamp": 1592370772494,
     "user": {
      "displayName": "Sharoon Saxena",
      "photoUrl": "https://lh3.googleusercontent.com/a-/AOh14GjyKz9rNCPkHi6QK8TjrjBFlTtaI9ngf0hIwgAl=s64",
      "userId": "01167841530696023488"
     },
     "user_tz": -330
    },
    "id": "lqWPkQ4T2ZWI",
    "outputId": "1ac1db89-fa1d-4eab-d311-00e7a5877bd5"
   },
   "outputs": [
    {
     "data": {
      "text/plain": [
       "<AxesSubplot:xlabel='Condition of the House'>"
      ]
     },
     "execution_count": 37,
     "metadata": {},
     "output_type": "execute_result"
    },
    {
     "data": {
      "image/png": "[encoded data removed]",
      "text/plain": [
       "<Figure size 432x288 with 1 Axes>"
      ]
     },
     "metadata": {
      "needs_background": "light"
     },
     "output_type": "display_data"
    }
   ],
   "source": [
    "data.groupby('Condition of the House')['Sale Price'].mean().plot(kind = 'bar')"
   ]
  },
  {
   "cell_type": "code",
   "execution_count": 38,
   "metadata": {
    "colab": {
     "base_uri": "https://localhost:8080/",
     "height": 332
    },
    "colab_type": "code",
    "executionInfo": {
     "elapsed": 6370,
     "status": "ok",
     "timestamp": 1592370772494,
     "user": {
      "displayName": "Sharoon Saxena",
      "photoUrl": "https://lh3.googleusercontent.com/a-/AOh14GjyKz9rNCPkHi6QK8TjrjBFlTtaI9ngf0hIwgAl=s64",
      "userId": "01167841530696023488"
     },
     "user_tz": -330
    },
    "id": "vI0LgSLA3FEo",
    "outputId": "63261bea-5c22-4f17-ee05-42171dd77e89"
   },
   "outputs": [
    {
     "data": {
      "text/plain": [
       "<AxesSubplot:xlabel='Condition of the House'>"
      ]
     },
     "execution_count": 38,
     "metadata": {},
     "output_type": "execute_result"
    },
    {
     "data": {
      "image/png": "[encoded data removed]",
      "text/plain": [
       "<Figure size 432x288 with 1 Axes>"
      ]
     },
     "metadata": {
      "needs_background": "light"
     },
     "output_type": "display_data"
    }
   ],
   "source": [
    "data.groupby('Condition of the House')['Sale Price'].mean().sort_values().plot(kind = 'bar')"
   ]
  },
  {
   "cell_type": "code",
   "execution_count": 39,
   "metadata": {
    "colab": {
     "base_uri": "https://localhost:8080/",
     "height": 313
    },
    "colab_type": "code",
    "executionInfo": {
     "elapsed": 6355,
     "status": "ok",
     "timestamp": 1592370772496,
     "user": {
      "displayName": "Sharoon Saxena",
      "photoUrl": "https://lh3.googleusercontent.com/a-/AOh14GjyKz9rNCPkHi6QK8TjrjBFlTtaI9ngf0hIwgAl=s64",
      "userId": "01167841530696023488"
     },
     "user_tz": -330
    },
    "id": "O1pOIOME3x9B",
    "outputId": "a9a3cd8f-e32b-4c01-bf0d-82f5803eaa9a"
   },
   "outputs": [
    {
     "data": {
      "text/plain": [
       "<AxesSubplot:xlabel='Waterfront View'>"
      ]
     },
     "execution_count": 39,
     "metadata": {},
     "output_type": "execute_result"
    },
    {
     "data": {
      "image/png": "[encoded data removed]",
      "text/plain": [
       "<Figure size 432x288 with 1 Axes>"
      ]
     },
     "metadata": {
      "needs_background": "light"
     },
     "output_type": "display_data"
    }
   ],
   "source": [
    "data.groupby('Waterfront View')['Sale Price'].mean().sort_values().plot(kind = 'bar')"
   ]
  },
  {
   "cell_type": "code",
   "execution_count": 40,
   "metadata": {
    "colab": {
     "base_uri": "https://localhost:8080/",
     "height": 302
    },
    "colab_type": "code",
    "executionInfo": {
     "elapsed": 6340,
     "status": "ok",
     "timestamp": 1592370772497,
     "user": {
      "displayName": "Sharoon Saxena",
      "photoUrl": "https://lh3.googleusercontent.com/a-/AOh14GjyKz9rNCPkHi6QK8TjrjBFlTtaI9ngf0hIwgAl=s64",
      "userId": "01167841530696023488"
     },
     "user_tz": -330
    },
    "id": "g9DbRijF4ByK",
    "outputId": "827f7d8c-2e75-4ff8-8ce0-3ca845f3612b"
   },
   "outputs": [
    {
     "data": {
      "text/plain": [
       "<AxesSubplot:xlabel='Ever Renovated'>"
      ]
     },
     "execution_count": 40,
     "metadata": {},
     "output_type": "execute_result"
    },
    {
     "data": {
      "image/png": "[encoded data removed]",
      "text/plain": [
       "<Figure size 432x288 with 1 Axes>"
      ]
     },
     "metadata": {
      "needs_background": "light"
     },
     "output_type": "display_data"
    }
   ],
   "source": [
    "data.groupby('Ever Renovated')['Sale Price'].mean().sort_values().plot(kind = 'bar')"
   ]
  },
  {
   "cell_type": "code",
   "execution_count": 41,
   "metadata": {
    "colab": {
     "base_uri": "https://localhost:8080/",
     "height": 339
    },
    "colab_type": "code",
    "executionInfo": {
     "elapsed": 7433,
     "status": "ok",
     "timestamp": 1592370773611,
     "user": {
      "displayName": "Sharoon Saxena",
      "photoUrl": "https://lh3.googleusercontent.com/a-/AOh14GjyKz9rNCPkHi6QK8TjrjBFlTtaI9ngf0hIwgAl=s64",
      "userId": "01167841530696023488"
     },
     "user_tz": -330
    },
    "id": "FbGthq624ExL",
    "outputId": "c6c18548-62ed-40cb-fbee-977084d70051"
   },
   "outputs": [
    {
     "data": {
      "text/plain": [
       "<AxesSubplot:xlabel='Zipcode'>"
      ]
     },
     "execution_count": 41,
     "metadata": {},
     "output_type": "execute_result"
    },
    {
     "data": {
      "image/png": "[encoded data removed]",
      "text/plain": [
       "<Figure size 432x288 with 1 Axes>"
      ]
     },
     "metadata": {
      "needs_background": "light"
     },
     "output_type": "display_data"
    }
   ],
   "source": [
    "data.groupby('Zipcode',)['Sale Price'].mean().sort_values().plot(kind = 'bar')"
   ]
  },
  {
   "cell_type": "markdown",
   "metadata": {
    "colab_type": "text",
    "id": "c-pjInHWGPSj"
   },
   "source": [
    "# Linear Regression\n"
   ]
  },
  {
   "cell_type": "code",
   "execution_count": 42,
   "metadata": {
    "colab": {},
    "colab_type": "code",
    "executionInfo": {
     "elapsed": 7423,
     "status": "ok",
     "timestamp": 1592370773612,
     "user": {
      "displayName": "Sharoon Saxena",
      "photoUrl": "https://lh3.googleusercontent.com/a-/AOh14GjyKz9rNCPkHi6QK8TjrjBFlTtaI9ngf0hIwgAl=s64",
      "userId": "01167841530696023488"
     },
     "user_tz": -330
    },
    "id": "gcJrmLtAWz0A"
   },
   "outputs": [],
   "source": [
    "data.dropna(inplace=True)\n",
    "X = data.drop(columns=['Sale Price'])\n",
    "Y = data['Sale Price']"
   ]
  },
  {
   "cell_type": "markdown",
   "metadata": {
    "colab_type": "text",
    "id": "DU-9w-yiho9d"
   },
   "source": [
    "## variable transformation"
   ]
  },
  {
   "cell_type": "code",
   "execution_count": 43,
   "metadata": {
    "colab": {},
    "colab_type": "code",
    "executionInfo": {
     "elapsed": 7415,
     "status": "ok",
     "timestamp": 1592370773613,
     "user": {
      "displayName": "Sharoon Saxena",
      "photoUrl": "https://lh3.googleusercontent.com/a-/AOh14GjyKz9rNCPkHi6QK8TjrjBFlTtaI9ngf0hIwgAl=s64",
      "userId": "01167841530696023488"
     },
     "user_tz": -330
    },
    "id": "a0PIhdlodv7-"
   },
   "outputs": [],
   "source": [
    "#checking distribution of independent numerical variables\n",
    "def distribution(data ,var):\n",
    "  plt.figure(figsize = (len(var)*6,6), dpi = 120)\n",
    "  for j,i in enumerate(var):\n",
    "    plt.subplot(1,len(var),j+1)\n",
    "    plt.hist(data[i])\n",
    "    plt.title(i)"
   ]
  },
  {
   "cell_type": "code",
   "execution_count": 44,
   "metadata": {
    "colab": {},
    "colab_type": "code",
    "executionInfo": {
     "elapsed": 7404,
     "status": "ok",
     "timestamp": 1592370773613,
     "user": {
      "displayName": "Sharoon Saxena",
      "photoUrl": "https://lh3.googleusercontent.com/a-/AOh14GjyKz9rNCPkHi6QK8TjrjBFlTtaI9ngf0hIwgAl=s64",
      "userId": "01167841530696023488"
     },
     "user_tz": -330
    },
    "id": "layF1FGugCyc"
   },
   "outputs": [],
   "source": [
    "numerical_columns = ['No of Bedrooms', 'No of Bathrooms', 'Lot Area (in Sqft)',\n",
    "                    'No of Floors', 'Area of the House from Basement (in Sqft)',\n",
    "                    'Basement Area (in Sqft)', 'Age of House (in Years)',\n",
    "                    'Latitude', 'Longitude', 'Living Area after Renovation (in Sqft)',\n",
    "                    'Lot Area after Renovation (in Sqft)', 'Years Since Renovation']"
   ]
  },
  {
   "cell_type": "code",
   "execution_count": 45,
   "metadata": {
    "colab": {},
    "colab_type": "code",
    "executionInfo": {
     "elapsed": 7397,
     "status": "ok",
     "timestamp": 1592370773614,
     "user": {
      "displayName": "Sharoon Saxena",
      "photoUrl": "https://lh3.googleusercontent.com/a-/AOh14GjyKz9rNCPkHi6QK8TjrjBFlTtaI9ngf0hIwgAl=s64",
      "userId": "01167841530696023488"
     },
     "user_tz": -330
    },
    "id": "zwdkyA6PeZbi"
   },
   "outputs": [],
   "source": [
    "for i in numerical_columns:\n",
    "  X[i] = pd.to_numeric(X[i])"
   ]
  },
  {
   "cell_type": "code",
   "execution_count": 46,
   "metadata": {
    "colab": {
     "base_uri": "https://localhost:8080/",
     "height": 165
    },
    "colab_type": "code",
    "executionInfo": {
     "elapsed": 10865,
     "status": "ok",
     "timestamp": 1592370777091,
     "user": {
      "displayName": "Sharoon Saxena",
      "photoUrl": "https://lh3.googleusercontent.com/a-/AOh14GjyKz9rNCPkHi6QK8TjrjBFlTtaI9ngf0hIwgAl=s64",
      "userId": "01167841530696023488"
     },
     "user_tz": -330
    },
    "id": "JjjQKDiPfP7D",
    "outputId": "4868820f-a1df-4339-ec8a-3be4eff922db"
   },
   "outputs": [
    {
     "data": {
      "image/png": "[encoded data removed]",
      "text/plain": [
       "<Figure size 8640x720 with 12 Axes>"
      ]
     },
     "metadata": {
      "needs_background": "light"
     },
     "output_type": "display_data"
    }
   ],
   "source": [
    "distribution(X, numerical_columns)"
   ]
  },
  {
   "cell_type": "code",
   "execution_count": 47,
   "metadata": {
    "colab": {},
    "colab_type": "code",
    "executionInfo": {
     "elapsed": 10854,
     "status": "ok",
     "timestamp": 1592370777092,
     "user": {
      "displayName": "Sharoon Saxena",
      "photoUrl": "https://lh3.googleusercontent.com/a-/AOh14GjyKz9rNCPkHi6QK8TjrjBFlTtaI9ngf0hIwgAl=s64",
      "userId": "01167841530696023488"
     },
     "user_tz": -330
    },
    "id": "CADxHXcghXjY"
   },
   "outputs": [],
   "source": [
    "#removing right skew\n",
    "def right_skew(x):\n",
    "  return np.log(abs(x+500))\n",
    "\n",
    "right_skew_variables = ['No of Bedrooms', 'No of Bathrooms', 'Lot Area (in Sqft)',\n",
    "                        'No of Floors', 'Area of the House from Basement (in Sqft)',\n",
    "                        'Basement Area (in Sqft)', 'Longitude', 'Living Area after Renovation (in Sqft)', \n",
    "                        'Lot Area after Renovation (in Sqft)', 'Years Since Renovation']\n"
   ]
  },
  {
   "cell_type": "code",
   "execution_count": 48,
   "metadata": {
    "colab": {},
    "colab_type": "code",
    "executionInfo": {
     "elapsed": 10843,
     "status": "ok",
     "timestamp": 1592370777092,
     "user": {
      "displayName": "Sharoon Saxena",
      "photoUrl": "https://lh3.googleusercontent.com/a-/AOh14GjyKz9rNCPkHi6QK8TjrjBFlTtaI9ngf0hIwgAl=s64",
      "userId": "01167841530696023488"
     },
     "user_tz": -330
    },
    "id": "HTL7uG0di5CA"
   },
   "outputs": [],
   "source": [
    "for i in right_skew_variables:\n",
    "  X[i] = X[i].map(right_skew)\n",
    "\n",
    "#removing infinite values\n",
    "X = X.replace(np.inf, np.nan)\n",
    "X.dropna(inplace=True)"
   ]
  },
  {
   "cell_type": "code",
   "execution_count": 49,
   "metadata": {
    "colab": {
     "base_uri": "https://localhost:8080/",
     "height": 160
    },
    "colab_type": "code",
    "executionInfo": {
     "elapsed": 14322,
     "status": "ok",
     "timestamp": 1592370780580,
     "user": {
      "displayName": "Sharoon Saxena",
      "photoUrl": "https://lh3.googleusercontent.com/a-/AOh14GjyKz9rNCPkHi6QK8TjrjBFlTtaI9ngf0hIwgAl=s64",
      "userId": "01167841530696023488"
     },
     "user_tz": -330
    },
    "id": "KpN8aa9ElJEj",
    "outputId": "d4eff983-6469-461d-d0a0-a04280569b3d"
   },
   "outputs": [
    {
     "data": {
      "image/png": "[encoded data removed]",
      "text/plain": [
       "<Figure size 8640x720 with 12 Axes>"
      ]
     },
     "metadata": {
      "needs_background": "light"
     },
     "output_type": "display_data"
    }
   ],
   "source": [
    "distribution(X, numerical_columns)"
   ]
  },
  {
   "cell_type": "markdown",
   "metadata": {
    "colab_type": "text",
    "id": "xvkHzrYordIB"
   },
   "source": [
    "## Scaling the dataset"
   ]
  },
  {
   "cell_type": "code",
   "execution_count": 49,
   "metadata": {
    "colab": {
     "base_uri": "https://localhost:8080/",
     "height": 326
    },
    "colab_type": "code",
    "executionInfo": {
     "elapsed": 14307,
     "status": "ok",
     "timestamp": 1592370780580,
     "user": {
      "displayName": "Sharoon Saxena",
      "photoUrl": "https://lh3.googleusercontent.com/a-/AOh14GjyKz9rNCPkHi6QK8TjrjBFlTtaI9ngf0hIwgAl=s64",
      "userId": "01167841530696023488"
     },
     "user_tz": -330
    },
    "id": "n8IPv4vHKFmC",
    "outputId": "aad5e22b-c340-4e88-8ef7-9ad4d4297353"
   },
   "outputs": [
    {
     "data": {
      "text/html": [
       "<div>\n",
       "<style scoped>\n",
       "    .dataframe tbody tr th:only-of-type {\n",
       "        vertical-align: middle;\n",
       "    }\n",
       "\n",
       "    .dataframe tbody tr th {\n",
       "        vertical-align: top;\n",
       "    }\n",
       "\n",
       "    .dataframe thead th {\n",
       "        text-align: right;\n",
       "    }\n",
       "</style>\n",
       "<table border=\"1\" class=\"dataframe\">\n",
       "  <thead>\n",
       "    <tr style=\"text-align: right;\">\n",
       "      <th></th>\n",
       "      <th>No of Bedrooms</th>\n",
       "      <th>No of Bathrooms</th>\n",
       "      <th>Flat Area (in Sqft)</th>\n",
       "      <th>Lot Area (in Sqft)</th>\n",
       "      <th>No of Floors</th>\n",
       "      <th>Waterfront View</th>\n",
       "      <th>No of Times Visited</th>\n",
       "      <th>Condition of the House</th>\n",
       "      <th>Overall Grade</th>\n",
       "      <th>Area of the House from Basement (in Sqft)</th>\n",
       "      <th>Basement Area (in Sqft)</th>\n",
       "      <th>Age of House (in Years)</th>\n",
       "      <th>Zipcode</th>\n",
       "      <th>Latitude</th>\n",
       "      <th>Longitude</th>\n",
       "      <th>Living Area after Renovation (in Sqft)</th>\n",
       "      <th>Lot Area after Renovation (in Sqft)</th>\n",
       "      <th>Ever Renovated</th>\n",
       "      <th>Years Since Renovation</th>\n",
       "    </tr>\n",
       "  </thead>\n",
       "  <tbody>\n",
       "    <tr>\n",
       "      <th>0</th>\n",
       "      <td>6.220590</td>\n",
       "      <td>6.216606</td>\n",
       "      <td>1180.0</td>\n",
       "      <td>8.724207</td>\n",
       "      <td>6.216606</td>\n",
       "      <td>No</td>\n",
       "      <td>0</td>\n",
       "      <td>Fair</td>\n",
       "      <td>7</td>\n",
       "      <td>7.426549</td>\n",
       "      <td>6.214608</td>\n",
       "      <td>63</td>\n",
       "      <td>98178.0</td>\n",
       "      <td>47.5112</td>\n",
       "      <td>5.934214</td>\n",
       "      <td>7.517521</td>\n",
       "      <td>8.724207</td>\n",
       "      <td>No</td>\n",
       "      <td>6.214608</td>\n",
       "    </tr>\n",
       "    <tr>\n",
       "      <th>1</th>\n",
       "      <td>6.220590</td>\n",
       "      <td>6.219098</td>\n",
       "      <td>2570.0</td>\n",
       "      <td>8.954415</td>\n",
       "      <td>6.218600</td>\n",
       "      <td>No</td>\n",
       "      <td>0</td>\n",
       "      <td>Fair</td>\n",
       "      <td>7</td>\n",
       "      <td>7.889834</td>\n",
       "      <td>6.802395</td>\n",
       "      <td>67</td>\n",
       "      <td>98125.0</td>\n",
       "      <td>47.7210</td>\n",
       "      <td>5.934050</td>\n",
       "      <td>7.691657</td>\n",
       "      <td>9.004423</td>\n",
       "      <td>Yes</td>\n",
       "      <td>6.265301</td>\n",
       "    </tr>\n",
       "    <tr>\n",
       "      <th>2</th>\n",
       "      <td>6.218600</td>\n",
       "      <td>6.216606</td>\n",
       "      <td>770.0</td>\n",
       "      <td>9.259131</td>\n",
       "      <td>6.216606</td>\n",
       "      <td>No</td>\n",
       "      <td>0</td>\n",
       "      <td>Fair</td>\n",
       "      <td>6</td>\n",
       "      <td>7.146772</td>\n",
       "      <td>6.214608</td>\n",
       "      <td>85</td>\n",
       "      <td>98028.0</td>\n",
       "      <td>47.7379</td>\n",
       "      <td>5.934278</td>\n",
       "      <td>8.077137</td>\n",
       "      <td>9.055089</td>\n",
       "      <td>No</td>\n",
       "      <td>6.214608</td>\n",
       "    </tr>\n",
       "    <tr>\n",
       "      <th>3</th>\n",
       "      <td>6.222576</td>\n",
       "      <td>6.220590</td>\n",
       "      <td>1960.0</td>\n",
       "      <td>8.612503</td>\n",
       "      <td>6.216606</td>\n",
       "      <td>No</td>\n",
       "      <td>0</td>\n",
       "      <td>Excellent</td>\n",
       "      <td>7</td>\n",
       "      <td>7.346010</td>\n",
       "      <td>7.251345</td>\n",
       "      <td>53</td>\n",
       "      <td>98136.0</td>\n",
       "      <td>47.5208</td>\n",
       "      <td>5.933854</td>\n",
       "      <td>7.528332</td>\n",
       "      <td>8.612503</td>\n",
       "      <td>No</td>\n",
       "      <td>6.214608</td>\n",
       "    </tr>\n",
       "    <tr>\n",
       "      <th>4</th>\n",
       "      <td>6.220590</td>\n",
       "      <td>6.218600</td>\n",
       "      <td>1680.0</td>\n",
       "      <td>9.057189</td>\n",
       "      <td>6.216606</td>\n",
       "      <td>No</td>\n",
       "      <td>0</td>\n",
       "      <td>Fair</td>\n",
       "      <td>8</td>\n",
       "      <td>7.687080</td>\n",
       "      <td>6.214608</td>\n",
       "      <td>31</td>\n",
       "      <td>98074.0</td>\n",
       "      <td>47.6168</td>\n",
       "      <td>5.934775</td>\n",
       "      <td>7.740664</td>\n",
       "      <td>8.987572</td>\n",
       "      <td>No</td>\n",
       "      <td>6.214608</td>\n",
       "    </tr>\n",
       "  </tbody>\n",
       "</table>\n",
       "</div>"
      ],
      "text/plain": [
       "   No of Bedrooms  No of Bathrooms  ...  Ever Renovated  Years Since Renovation\n",
       "0        6.220590         6.216606  ...              No                6.214608\n",
       "1        6.220590         6.219098  ...             Yes                6.265301\n",
       "2        6.218600         6.216606  ...              No                6.214608\n",
       "3        6.222576         6.220590  ...              No                6.214608\n",
       "4        6.220590         6.218600  ...              No                6.214608\n",
       "\n",
       "[5 rows x 19 columns]"
      ]
     },
     "execution_count": 49,
     "metadata": {
      "tags": []
     },
     "output_type": "execute_result"
    }
   ],
   "source": [
    "X.head()"
   ]
  },
  {
   "cell_type": "code",
   "execution_count": 50,
   "metadata": {
    "colab": {
     "base_uri": "https://localhost:8080/",
     "height": 326
    },
    "colab_type": "code",
    "executionInfo": {
     "elapsed": 14294,
     "status": "ok",
     "timestamp": 1592370780581,
     "user": {
      "displayName": "Sharoon Saxena",
      "photoUrl": "https://lh3.googleusercontent.com/a-/AOh14GjyKz9rNCPkHi6QK8TjrjBFlTtaI9ngf0hIwgAl=s64",
      "userId": "01167841530696023488"
     },
     "user_tz": -330
    },
    "id": "WsRaqaWqKKm3",
    "outputId": "e0e5e552-a3d8-4706-dfcf-bbe1fbd66699"
   },
   "outputs": [
    {
     "data": {
      "text/html": [
       "<div>\n",
       "<style scoped>\n",
       "    .dataframe tbody tr th:only-of-type {\n",
       "        vertical-align: middle;\n",
       "    }\n",
       "\n",
       "    .dataframe tbody tr th {\n",
       "        vertical-align: top;\n",
       "    }\n",
       "\n",
       "    .dataframe thead th {\n",
       "        text-align: right;\n",
       "    }\n",
       "</style>\n",
       "<table border=\"1\" class=\"dataframe\">\n",
       "  <thead>\n",
       "    <tr style=\"text-align: right;\">\n",
       "      <th></th>\n",
       "      <th>No of Bedrooms</th>\n",
       "      <th>No of Bathrooms</th>\n",
       "      <th>Flat Area (in Sqft)</th>\n",
       "      <th>Lot Area (in Sqft)</th>\n",
       "      <th>No of Floors</th>\n",
       "      <th>Waterfront View</th>\n",
       "      <th>No of Times Visited</th>\n",
       "      <th>Condition of the House</th>\n",
       "      <th>Overall Grade</th>\n",
       "      <th>Area of the House from Basement (in Sqft)</th>\n",
       "      <th>Basement Area (in Sqft)</th>\n",
       "      <th>Age of House (in Years)</th>\n",
       "      <th>Zipcode</th>\n",
       "      <th>Latitude</th>\n",
       "      <th>Longitude</th>\n",
       "      <th>Living Area after Renovation (in Sqft)</th>\n",
       "      <th>Lot Area after Renovation (in Sqft)</th>\n",
       "      <th>Ever Renovated</th>\n",
       "      <th>Years Since Renovation</th>\n",
       "    </tr>\n",
       "  </thead>\n",
       "  <tbody>\n",
       "    <tr>\n",
       "      <th>0</th>\n",
       "      <td>6.220590</td>\n",
       "      <td>6.216606</td>\n",
       "      <td>1180.0</td>\n",
       "      <td>8.724207</td>\n",
       "      <td>6.216606</td>\n",
       "      <td>0</td>\n",
       "      <td>0</td>\n",
       "      <td>3</td>\n",
       "      <td>7</td>\n",
       "      <td>7.426549</td>\n",
       "      <td>6.214608</td>\n",
       "      <td>63</td>\n",
       "      <td>98178.0</td>\n",
       "      <td>47.5112</td>\n",
       "      <td>5.934214</td>\n",
       "      <td>7.517521</td>\n",
       "      <td>8.724207</td>\n",
       "      <td>0</td>\n",
       "      <td>6.214608</td>\n",
       "    </tr>\n",
       "    <tr>\n",
       "      <th>1</th>\n",
       "      <td>6.220590</td>\n",
       "      <td>6.219098</td>\n",
       "      <td>2570.0</td>\n",
       "      <td>8.954415</td>\n",
       "      <td>6.218600</td>\n",
       "      <td>0</td>\n",
       "      <td>0</td>\n",
       "      <td>3</td>\n",
       "      <td>7</td>\n",
       "      <td>7.889834</td>\n",
       "      <td>6.802395</td>\n",
       "      <td>67</td>\n",
       "      <td>98125.0</td>\n",
       "      <td>47.7210</td>\n",
       "      <td>5.934050</td>\n",
       "      <td>7.691657</td>\n",
       "      <td>9.004423</td>\n",
       "      <td>1</td>\n",
       "      <td>6.265301</td>\n",
       "    </tr>\n",
       "    <tr>\n",
       "      <th>2</th>\n",
       "      <td>6.218600</td>\n",
       "      <td>6.216606</td>\n",
       "      <td>770.0</td>\n",
       "      <td>9.259131</td>\n",
       "      <td>6.216606</td>\n",
       "      <td>0</td>\n",
       "      <td>0</td>\n",
       "      <td>3</td>\n",
       "      <td>6</td>\n",
       "      <td>7.146772</td>\n",
       "      <td>6.214608</td>\n",
       "      <td>85</td>\n",
       "      <td>98028.0</td>\n",
       "      <td>47.7379</td>\n",
       "      <td>5.934278</td>\n",
       "      <td>8.077137</td>\n",
       "      <td>9.055089</td>\n",
       "      <td>0</td>\n",
       "      <td>6.214608</td>\n",
       "    </tr>\n",
       "    <tr>\n",
       "      <th>3</th>\n",
       "      <td>6.222576</td>\n",
       "      <td>6.220590</td>\n",
       "      <td>1960.0</td>\n",
       "      <td>8.612503</td>\n",
       "      <td>6.216606</td>\n",
       "      <td>0</td>\n",
       "      <td>0</td>\n",
       "      <td>5</td>\n",
       "      <td>7</td>\n",
       "      <td>7.346010</td>\n",
       "      <td>7.251345</td>\n",
       "      <td>53</td>\n",
       "      <td>98136.0</td>\n",
       "      <td>47.5208</td>\n",
       "      <td>5.933854</td>\n",
       "      <td>7.528332</td>\n",
       "      <td>8.612503</td>\n",
       "      <td>0</td>\n",
       "      <td>6.214608</td>\n",
       "    </tr>\n",
       "    <tr>\n",
       "      <th>4</th>\n",
       "      <td>6.220590</td>\n",
       "      <td>6.218600</td>\n",
       "      <td>1680.0</td>\n",
       "      <td>9.057189</td>\n",
       "      <td>6.216606</td>\n",
       "      <td>0</td>\n",
       "      <td>0</td>\n",
       "      <td>3</td>\n",
       "      <td>8</td>\n",
       "      <td>7.687080</td>\n",
       "      <td>6.214608</td>\n",
       "      <td>31</td>\n",
       "      <td>98074.0</td>\n",
       "      <td>47.6168</td>\n",
       "      <td>5.934775</td>\n",
       "      <td>7.740664</td>\n",
       "      <td>8.987572</td>\n",
       "      <td>0</td>\n",
       "      <td>6.214608</td>\n",
       "    </tr>\n",
       "  </tbody>\n",
       "</table>\n",
       "</div>"
      ],
      "text/plain": [
       "   No of Bedrooms  No of Bathrooms  Flat Area (in Sqft)  Lot Area (in Sqft)  \\\n",
       "0        6.220590         6.216606               1180.0            8.724207   \n",
       "1        6.220590         6.219098               2570.0            8.954415   \n",
       "2        6.218600         6.216606                770.0            9.259131   \n",
       "3        6.222576         6.220590               1960.0            8.612503   \n",
       "4        6.220590         6.218600               1680.0            9.057189   \n",
       "\n",
       "   No of Floors  Waterfront View No of Times Visited  Condition of the House  \\\n",
       "0      6.216606                0                   0                       3   \n",
       "1      6.218600                0                   0                       3   \n",
       "2      6.216606                0                   0                       3   \n",
       "3      6.216606                0                   0                       5   \n",
       "4      6.216606                0                   0                       3   \n",
       "\n",
       "   Overall Grade  Area of the House from Basement (in Sqft)  \\\n",
       "0              7                                   7.426549   \n",
       "1              7                                   7.889834   \n",
       "2              6                                   7.146772   \n",
       "3              7                                   7.346010   \n",
       "4              8                                   7.687080   \n",
       "\n",
       "   Basement Area (in Sqft)  Age of House (in Years)  Zipcode  Latitude  \\\n",
       "0                 6.214608                       63  98178.0   47.5112   \n",
       "1                 6.802395                       67  98125.0   47.7210   \n",
       "2                 6.214608                       85  98028.0   47.7379   \n",
       "3                 7.251345                       53  98136.0   47.5208   \n",
       "4                 6.214608                       31  98074.0   47.6168   \n",
       "\n",
       "   Longitude  Living Area after Renovation (in Sqft)  \\\n",
       "0   5.934214                                7.517521   \n",
       "1   5.934050                                7.691657   \n",
       "2   5.934278                                8.077137   \n",
       "3   5.933854                                7.528332   \n",
       "4   5.934775                                7.740664   \n",
       "\n",
       "   Lot Area after Renovation (in Sqft)  Ever Renovated  Years Since Renovation  \n",
       "0                             8.724207               0                6.214608  \n",
       "1                             9.004423               1                6.265301  \n",
       "2                             9.055089               0                6.214608  \n",
       "3                             8.612503               0                6.214608  \n",
       "4                             8.987572               0                6.214608  "
      ]
     },
     "execution_count": 50,
     "metadata": {},
     "output_type": "execute_result"
    }
   ],
   "source": [
    "X[\"Waterfront View\"] = X[\"Waterfront View\"].map({'No':0, 'Yes':1})\n",
    "\n",
    "\n",
    "X['Condition of the House'] = X['Condition of the House'].map({'Bad':1,\n",
    "                                                               'Okay':2,\n",
    "                                                               'Fair':3,\n",
    "                                                               'Good':4,\n",
    "                                                               'Excellent':5})\n",
    "\n",
    "X['Ever Renovated'] = X['Ever Renovated'].map({'No':0,'Yes':1})\n",
    "\n",
    "X.head()"
   ]
  },
  {
   "cell_type": "code",
   "execution_count": 51,
   "metadata": {
    "colab": {
     "base_uri": "https://localhost:8080/",
     "height": 326
    },
    "colab_type": "code",
    "executionInfo": {
     "elapsed": 14282,
     "status": "ok",
     "timestamp": 1592370780581,
     "user": {
      "displayName": "Sharoon Saxena",
      "photoUrl": "https://lh3.googleusercontent.com/a-/AOh14GjyKz9rNCPkHi6QK8TjrjBFlTtaI9ngf0hIwgAl=s64",
      "userId": "01167841530696023488"
     },
     "user_tz": -330
    },
    "id": "DdK6-a5wkn0q",
    "outputId": "60c96c03-3439-4f5a-e42e-1043cb3f4b22"
   },
   "outputs": [
    {
     "data": {
      "text/html": [
       "<div>\n",
       "<style scoped>\n",
       "    .dataframe tbody tr th:only-of-type {\n",
       "        vertical-align: middle;\n",
       "    }\n",
       "\n",
       "    .dataframe tbody tr th {\n",
       "        vertical-align: top;\n",
       "    }\n",
       "\n",
       "    .dataframe thead th {\n",
       "        text-align: right;\n",
       "    }\n",
       "</style>\n",
       "<table border=\"1\" class=\"dataframe\">\n",
       "  <thead>\n",
       "    <tr style=\"text-align: right;\">\n",
       "      <th></th>\n",
       "      <th>No of Bedrooms</th>\n",
       "      <th>No of Bathrooms</th>\n",
       "      <th>Flat Area (in Sqft)</th>\n",
       "      <th>Lot Area (in Sqft)</th>\n",
       "      <th>No of Floors</th>\n",
       "      <th>Waterfront View</th>\n",
       "      <th>No of Times Visited</th>\n",
       "      <th>Condition of the House</th>\n",
       "      <th>Overall Grade</th>\n",
       "      <th>Area of the House from Basement (in Sqft)</th>\n",
       "      <th>Basement Area (in Sqft)</th>\n",
       "      <th>Age of House (in Years)</th>\n",
       "      <th>Zipcode</th>\n",
       "      <th>Latitude</th>\n",
       "      <th>Longitude</th>\n",
       "      <th>Living Area after Renovation (in Sqft)</th>\n",
       "      <th>Lot Area after Renovation (in Sqft)</th>\n",
       "      <th>Ever Renovated</th>\n",
       "      <th>Years Since Renovation</th>\n",
       "    </tr>\n",
       "  </thead>\n",
       "  <tbody>\n",
       "    <tr>\n",
       "      <th>0</th>\n",
       "      <td>-0.398647</td>\n",
       "      <td>-1.448931</td>\n",
       "      <td>-0.979905</td>\n",
       "      <td>-0.412101</td>\n",
       "      <td>-0.915604</td>\n",
       "      <td>-0.087181</td>\n",
       "      <td>-0.30579</td>\n",
       "      <td>-0.629203</td>\n",
       "      <td>-0.563993</td>\n",
       "      <td>-0.767588</td>\n",
       "      <td>-0.726332</td>\n",
       "      <td>0.544734</td>\n",
       "      <td>1.870094</td>\n",
       "      <td>-0.352576</td>\n",
       "      <td>-0.306108</td>\n",
       "      <td>-1.027547</td>\n",
       "      <td>-0.416515</td>\n",
       "      <td>-0.210155</td>\n",
       "      <td>-0.168911</td>\n",
       "    </tr>\n",
       "    <tr>\n",
       "      <th>1</th>\n",
       "      <td>-0.398647</td>\n",
       "      <td>0.176496</td>\n",
       "      <td>0.533718</td>\n",
       "      <td>-0.139474</td>\n",
       "      <td>0.937193</td>\n",
       "      <td>-0.087181</td>\n",
       "      <td>-0.30579</td>\n",
       "      <td>-0.629203</td>\n",
       "      <td>-0.563993</td>\n",
       "      <td>0.642025</td>\n",
       "      <td>0.538457</td>\n",
       "      <td>0.680915</td>\n",
       "      <td>0.879534</td>\n",
       "      <td>1.161645</td>\n",
       "      <td>-0.746519</td>\n",
       "      <td>-0.355983</td>\n",
       "      <td>-0.048331</td>\n",
       "      <td>4.758385</td>\n",
       "      <td>4.827106</td>\n",
       "    </tr>\n",
       "    <tr>\n",
       "      <th>2</th>\n",
       "      <td>-1.477788</td>\n",
       "      <td>-1.448931</td>\n",
       "      <td>-1.426369</td>\n",
       "      <td>0.221390</td>\n",
       "      <td>-0.915604</td>\n",
       "      <td>-0.087181</td>\n",
       "      <td>-0.30579</td>\n",
       "      <td>-0.629203</td>\n",
       "      <td>-1.468566</td>\n",
       "      <td>-1.618851</td>\n",
       "      <td>-0.726332</td>\n",
       "      <td>1.293731</td>\n",
       "      <td>-0.933379</td>\n",
       "      <td>1.283619</td>\n",
       "      <td>-0.135646</td>\n",
       "      <td>1.130637</td>\n",
       "      <td>0.018241</td>\n",
       "      <td>-0.210155</td>\n",
       "      <td>-0.168911</td>\n",
       "    </tr>\n",
       "    <tr>\n",
       "      <th>3</th>\n",
       "      <td>0.678352</td>\n",
       "      <td>1.149811</td>\n",
       "      <td>-0.130534</td>\n",
       "      <td>-0.544388</td>\n",
       "      <td>-0.915604</td>\n",
       "      <td>-0.087181</td>\n",
       "      <td>-0.30579</td>\n",
       "      <td>2.444136</td>\n",
       "      <td>-0.563993</td>\n",
       "      <td>-1.012639</td>\n",
       "      <td>1.504500</td>\n",
       "      <td>0.204281</td>\n",
       "      <td>1.085122</td>\n",
       "      <td>-0.283288</td>\n",
       "      <td>-1.272266</td>\n",
       "      <td>-0.985854</td>\n",
       "      <td>-0.563287</td>\n",
       "      <td>-0.210155</td>\n",
       "      <td>-0.168911</td>\n",
       "    </tr>\n",
       "    <tr>\n",
       "      <th>4</th>\n",
       "      <td>-0.398647</td>\n",
       "      <td>-0.148266</td>\n",
       "      <td>-0.435436</td>\n",
       "      <td>-0.017762</td>\n",
       "      <td>-0.915604</td>\n",
       "      <td>-0.087181</td>\n",
       "      <td>-0.30579</td>\n",
       "      <td>-0.629203</td>\n",
       "      <td>0.340581</td>\n",
       "      <td>0.025117</td>\n",
       "      <td>-0.726332</td>\n",
       "      <td>-0.544715</td>\n",
       "      <td>-0.073647</td>\n",
       "      <td>0.409587</td>\n",
       "      <td>1.199268</td>\n",
       "      <td>-0.166983</td>\n",
       "      <td>-0.070472</td>\n",
       "      <td>-0.210155</td>\n",
       "      <td>-0.168911</td>\n",
       "    </tr>\n",
       "  </tbody>\n",
       "</table>\n",
       "</div>"
      ],
      "text/plain": [
       "   No of Bedrooms  No of Bathrooms  Flat Area (in Sqft)  Lot Area (in Sqft)  \\\n",
       "0       -0.398647        -1.448931            -0.979905           -0.412101   \n",
       "1       -0.398647         0.176496             0.533718           -0.139474   \n",
       "2       -1.477788        -1.448931            -1.426369            0.221390   \n",
       "3        0.678352         1.149811            -0.130534           -0.544388   \n",
       "4       -0.398647        -0.148266            -0.435436           -0.017762   \n",
       "\n",
       "   No of Floors  Waterfront View  No of Times Visited  Condition of the House  \\\n",
       "0     -0.915604        -0.087181             -0.30579               -0.629203   \n",
       "1      0.937193        -0.087181             -0.30579               -0.629203   \n",
       "2     -0.915604        -0.087181             -0.30579               -0.629203   \n",
       "3     -0.915604        -0.087181             -0.30579                2.444136   \n",
       "4     -0.915604        -0.087181             -0.30579               -0.629203   \n",
       "\n",
       "   Overall Grade  Area of the House from Basement (in Sqft)  \\\n",
       "0      -0.563993                                  -0.767588   \n",
       "1      -0.563993                                   0.642025   \n",
       "2      -1.468566                                  -1.618851   \n",
       "3      -0.563993                                  -1.012639   \n",
       "4       0.340581                                   0.025117   \n",
       "\n",
       "   Basement Area (in Sqft)  Age of House (in Years)   Zipcode  Latitude  \\\n",
       "0                -0.726332                 0.544734  1.870094 -0.352576   \n",
       "1                 0.538457                 0.680915  0.879534  1.161645   \n",
       "2                -0.726332                 1.293731 -0.933379  1.283619   \n",
       "3                 1.504500                 0.204281  1.085122 -0.283288   \n",
       "4                -0.726332                -0.544715 -0.073647  0.409587   \n",
       "\n",
       "   Longitude  Living Area after Renovation (in Sqft)  \\\n",
       "0  -0.306108                               -1.027547   \n",
       "1  -0.746519                               -0.355983   \n",
       "2  -0.135646                                1.130637   \n",
       "3  -1.272266                               -0.985854   \n",
       "4   1.199268                               -0.166983   \n",
       "\n",
       "   Lot Area after Renovation (in Sqft)  Ever Renovated  Years Since Renovation  \n",
       "0                            -0.416515       -0.210155               -0.168911  \n",
       "1                            -0.048331        4.758385                4.827106  \n",
       "2                             0.018241       -0.210155               -0.168911  \n",
       "3                            -0.563287       -0.210155               -0.168911  \n",
       "4                            -0.070472       -0.210155               -0.168911  "
      ]
     },
     "execution_count": 51,
     "metadata": {},
     "output_type": "execute_result"
    }
   ],
   "source": [
    "from sklearn.preprocessing import StandardScaler\n",
    "scaler = StandardScaler()\n",
    "Y = data['Sale Price']\n",
    "X1 = scaler.fit_transform(X)\n",
    "X = pd.DataFrame(data = X1, columns = X.columns)\n",
    "X.head()"
   ]
  },
  {
   "cell_type": "markdown",
   "metadata": {
    "colab_type": "text",
    "id": "7qsbDI_00UrF"
   },
   "source": [
    "## Checking and Removing Multicollinearity"
   ]
  },
  {
   "cell_type": "code",
   "execution_count": 52,
   "metadata": {
    "colab": {
     "base_uri": "https://localhost:8080/",
     "height": 1000
    },
    "colab_type": "code",
    "executionInfo": {
     "elapsed": 14269,
     "status": "ok",
     "timestamp": 1592370780582,
     "user": {
      "displayName": "Sharoon Saxena",
      "photoUrl": "https://lh3.googleusercontent.com/a-/AOh14GjyKz9rNCPkHi6QK8TjrjBFlTtaI9ngf0hIwgAl=s64",
      "userId": "01167841530696023488"
     },
     "user_tz": -330
    },
    "id": "dXMBUdbs0UrI",
    "outputId": "54c93988-e5f1-4a8c-af8a-c48776abbc88"
   },
   "outputs": [
    {
     "data": {
      "text/html": [
       "<div>\n",
       "<style scoped>\n",
       "    .dataframe tbody tr th:only-of-type {\n",
       "        vertical-align: middle;\n",
       "    }\n",
       "\n",
       "    .dataframe tbody tr th {\n",
       "        vertical-align: top;\n",
       "    }\n",
       "\n",
       "    .dataframe thead th {\n",
       "        text-align: right;\n",
       "    }\n",
       "</style>\n",
       "<table border=\"1\" class=\"dataframe\">\n",
       "  <thead>\n",
       "    <tr style=\"text-align: right;\">\n",
       "      <th></th>\n",
       "      <th>No of Bedrooms</th>\n",
       "      <th>No of Bathrooms</th>\n",
       "      <th>Flat Area (in Sqft)</th>\n",
       "      <th>Lot Area (in Sqft)</th>\n",
       "      <th>No of Floors</th>\n",
       "      <th>Waterfront View</th>\n",
       "      <th>No of Times Visited</th>\n",
       "      <th>Condition of the House</th>\n",
       "      <th>Overall Grade</th>\n",
       "      <th>Area of the House from Basement (in Sqft)</th>\n",
       "      <th>Basement Area (in Sqft)</th>\n",
       "      <th>Age of House (in Years)</th>\n",
       "      <th>Zipcode</th>\n",
       "      <th>Latitude</th>\n",
       "      <th>Longitude</th>\n",
       "      <th>Living Area after Renovation (in Sqft)</th>\n",
       "      <th>Lot Area after Renovation (in Sqft)</th>\n",
       "      <th>Ever Renovated</th>\n",
       "      <th>Years Since Renovation</th>\n",
       "    </tr>\n",
       "  </thead>\n",
       "  <tbody>\n",
       "    <tr>\n",
       "      <th>No of Bedrooms</th>\n",
       "      <td>1.000000</td>\n",
       "      <td>0.516645</td>\n",
       "      <td>0.577469</td>\n",
       "      <td>0.175425</td>\n",
       "      <td>0.175995</td>\n",
       "      <td>-0.006617</td>\n",
       "      <td>0.079649</td>\n",
       "      <td>0.028514</td>\n",
       "      <td>0.349933</td>\n",
       "      <td>0.509475</td>\n",
       "      <td>0.276781</td>\n",
       "      <td>-0.154613</td>\n",
       "      <td>-0.153163</td>\n",
       "      <td>-0.008867</td>\n",
       "      <td>0.129997</td>\n",
       "      <td>0.404806</td>\n",
       "      <td>0.154329</td>\n",
       "      <td>0.018555</td>\n",
       "      <td>-0.006734</td>\n",
       "    </tr>\n",
       "    <tr>\n",
       "      <th>No of Bathrooms</th>\n",
       "      <td>0.516645</td>\n",
       "      <td>1.000000</td>\n",
       "      <td>0.754415</td>\n",
       "      <td>0.105010</td>\n",
       "      <td>0.500980</td>\n",
       "      <td>0.063683</td>\n",
       "      <td>0.187657</td>\n",
       "      <td>-0.124874</td>\n",
       "      <td>0.635778</td>\n",
       "      <td>0.696041</td>\n",
       "      <td>0.254042</td>\n",
       "      <td>-0.506206</td>\n",
       "      <td>-0.204097</td>\n",
       "      <td>0.024506</td>\n",
       "      <td>0.223332</td>\n",
       "      <td>0.572407</td>\n",
       "      <td>0.095798</td>\n",
       "      <td>0.050239</td>\n",
       "      <td>0.004644</td>\n",
       "    </tr>\n",
       "    <tr>\n",
       "      <th>Flat Area (in Sqft)</th>\n",
       "      <td>0.577469</td>\n",
       "      <td>0.754415</td>\n",
       "      <td>1.000000</td>\n",
       "      <td>0.341571</td>\n",
       "      <td>0.354268</td>\n",
       "      <td>0.103841</td>\n",
       "      <td>0.284678</td>\n",
       "      <td>-0.058922</td>\n",
       "      <td>0.705725</td>\n",
       "      <td>0.853690</td>\n",
       "      <td>0.373296</td>\n",
       "      <td>-0.318146</td>\n",
       "      <td>-0.199380</td>\n",
       "      <td>0.052538</td>\n",
       "      <td>0.240124</td>\n",
       "      <td>0.739515</td>\n",
       "      <td>0.318573</td>\n",
       "      <td>0.055111</td>\n",
       "      <td>0.024552</td>\n",
       "    </tr>\n",
       "    <tr>\n",
       "      <th>Lot Area (in Sqft)</th>\n",
       "      <td>0.175425</td>\n",
       "      <td>0.105010</td>\n",
       "      <td>0.341571</td>\n",
       "      <td>1.000000</td>\n",
       "      <td>-0.218404</td>\n",
       "      <td>0.074316</td>\n",
       "      <td>0.121698</td>\n",
       "      <td>0.066113</td>\n",
       "      <td>0.165807</td>\n",
       "      <td>0.319715</td>\n",
       "      <td>0.056278</td>\n",
       "      <td>-0.006100</td>\n",
       "      <td>-0.279267</td>\n",
       "      <td>-0.145945</td>\n",
       "      <td>0.376102</td>\n",
       "      <td>0.361633</td>\n",
       "      <td>0.917835</td>\n",
       "      <td>0.022789</td>\n",
       "      <td>0.033036</td>\n",
       "    </tr>\n",
       "    <tr>\n",
       "      <th>No of Floors</th>\n",
       "      <td>0.175995</td>\n",
       "      <td>0.500980</td>\n",
       "      <td>0.354268</td>\n",
       "      <td>-0.218404</td>\n",
       "      <td>1.000000</td>\n",
       "      <td>0.023721</td>\n",
       "      <td>0.029503</td>\n",
       "      <td>-0.263676</td>\n",
       "      <td>0.461442</td>\n",
       "      <td>0.548408</td>\n",
       "      <td>-0.266598</td>\n",
       "      <td>-0.489232</td>\n",
       "      <td>-0.059289</td>\n",
       "      <td>0.049640</td>\n",
       "      <td>0.125724</td>\n",
       "      <td>0.277817</td>\n",
       "      <td>-0.210687</td>\n",
       "      <td>0.006318</td>\n",
       "      <td>-0.000379</td>\n",
       "    </tr>\n",
       "    <tr>\n",
       "      <th>Waterfront View</th>\n",
       "      <td>-0.006617</td>\n",
       "      <td>0.063683</td>\n",
       "      <td>0.103841</td>\n",
       "      <td>0.074316</td>\n",
       "      <td>0.023721</td>\n",
       "      <td>1.000000</td>\n",
       "      <td>0.401856</td>\n",
       "      <td>0.016650</td>\n",
       "      <td>0.070332</td>\n",
       "      <td>0.063294</td>\n",
       "      <td>0.063276</td>\n",
       "      <td>0.026149</td>\n",
       "      <td>0.030286</td>\n",
       "      <td>-0.014275</td>\n",
       "      <td>-0.041934</td>\n",
       "      <td>0.080573</td>\n",
       "      <td>0.083232</td>\n",
       "      <td>0.093291</td>\n",
       "      <td>0.105822</td>\n",
       "    </tr>\n",
       "    <tr>\n",
       "      <th>No of Times Visited</th>\n",
       "      <td>0.079649</td>\n",
       "      <td>0.187657</td>\n",
       "      <td>0.284678</td>\n",
       "      <td>0.121698</td>\n",
       "      <td>0.029503</td>\n",
       "      <td>0.401856</td>\n",
       "      <td>1.000000</td>\n",
       "      <td>0.045978</td>\n",
       "      <td>0.223661</td>\n",
       "      <td>0.161106</td>\n",
       "      <td>0.249446</td>\n",
       "      <td>0.053395</td>\n",
       "      <td>0.084830</td>\n",
       "      <td>0.006162</td>\n",
       "      <td>-0.078472</td>\n",
       "      <td>0.268524</td>\n",
       "      <td>0.118788</td>\n",
       "      <td>0.104051</td>\n",
       "      <td>0.094621</td>\n",
       "    </tr>\n",
       "    <tr>\n",
       "      <th>Condition of the House</th>\n",
       "      <td>0.028514</td>\n",
       "      <td>-0.124874</td>\n",
       "      <td>-0.058922</td>\n",
       "      <td>0.066113</td>\n",
       "      <td>-0.263676</td>\n",
       "      <td>0.016650</td>\n",
       "      <td>0.045978</td>\n",
       "      <td>1.000000</td>\n",
       "      <td>-0.143747</td>\n",
       "      <td>-0.153588</td>\n",
       "      <td>0.176043</td>\n",
       "      <td>0.361383</td>\n",
       "      <td>0.003076</td>\n",
       "      <td>-0.015008</td>\n",
       "      <td>-0.106546</td>\n",
       "      <td>-0.090182</td>\n",
       "      <td>0.073370</td>\n",
       "      <td>-0.060152</td>\n",
       "      <td>-0.012115</td>\n",
       "    </tr>\n",
       "    <tr>\n",
       "      <th>Overall Grade</th>\n",
       "      <td>0.349933</td>\n",
       "      <td>0.635778</td>\n",
       "      <td>0.705725</td>\n",
       "      <td>0.165807</td>\n",
       "      <td>0.461442</td>\n",
       "      <td>0.070332</td>\n",
       "      <td>0.223661</td>\n",
       "      <td>-0.143747</td>\n",
       "      <td>1.000000</td>\n",
       "      <td>0.723789</td>\n",
       "      <td>0.116078</td>\n",
       "      <td>-0.456711</td>\n",
       "      <td>-0.185844</td>\n",
       "      <td>0.111226</td>\n",
       "      <td>0.201765</td>\n",
       "      <td>0.676795</td>\n",
       "      <td>0.167561</td>\n",
       "      <td>0.010010</td>\n",
       "      <td>-0.023473</td>\n",
       "    </tr>\n",
       "    <tr>\n",
       "      <th>Area of the House from Basement (in Sqft)</th>\n",
       "      <td>0.509475</td>\n",
       "      <td>0.696041</td>\n",
       "      <td>0.853690</td>\n",
       "      <td>0.319715</td>\n",
       "      <td>0.548408</td>\n",
       "      <td>0.063294</td>\n",
       "      <td>0.161106</td>\n",
       "      <td>-0.153588</td>\n",
       "      <td>0.723789</td>\n",
       "      <td>1.000000</td>\n",
       "      <td>-0.111289</td>\n",
       "      <td>-0.448692</td>\n",
       "      <td>-0.285278</td>\n",
       "      <td>-0.015269</td>\n",
       "      <td>0.360187</td>\n",
       "      <td>0.720753</td>\n",
       "      <td>0.301163</td>\n",
       "      <td>0.026070</td>\n",
       "      <td>0.013457</td>\n",
       "    </tr>\n",
       "    <tr>\n",
       "      <th>Basement Area (in Sqft)</th>\n",
       "      <td>0.276781</td>\n",
       "      <td>0.254042</td>\n",
       "      <td>0.373296</td>\n",
       "      <td>0.056278</td>\n",
       "      <td>-0.266598</td>\n",
       "      <td>0.063276</td>\n",
       "      <td>0.249446</td>\n",
       "      <td>0.176043</td>\n",
       "      <td>0.116078</td>\n",
       "      <td>-0.111289</td>\n",
       "      <td>1.000000</td>\n",
       "      <td>0.153930</td>\n",
       "      <td>0.103527</td>\n",
       "      <td>0.121208</td>\n",
       "      <td>-0.177197</td>\n",
       "      <td>0.166776</td>\n",
       "      <td>0.045337</td>\n",
       "      <td>0.067745</td>\n",
       "      <td>0.028257</td>\n",
       "    </tr>\n",
       "    <tr>\n",
       "      <th>Age of House (in Years)</th>\n",
       "      <td>-0.154613</td>\n",
       "      <td>-0.506206</td>\n",
       "      <td>-0.318146</td>\n",
       "      <td>-0.006100</td>\n",
       "      <td>-0.489232</td>\n",
       "      <td>0.026149</td>\n",
       "      <td>0.053395</td>\n",
       "      <td>0.361383</td>\n",
       "      <td>-0.456711</td>\n",
       "      <td>-0.448692</td>\n",
       "      <td>0.153930</td>\n",
       "      <td>1.000000</td>\n",
       "      <td>0.346928</td>\n",
       "      <td>0.148083</td>\n",
       "      <td>-0.409548</td>\n",
       "      <td>-0.333976</td>\n",
       "      <td>-0.029929</td>\n",
       "      <td>0.225182</td>\n",
       "      <td>0.204446</td>\n",
       "    </tr>\n",
       "    <tr>\n",
       "      <th>Zipcode</th>\n",
       "      <td>-0.153163</td>\n",
       "      <td>-0.204097</td>\n",
       "      <td>-0.199380</td>\n",
       "      <td>-0.279267</td>\n",
       "      <td>-0.059289</td>\n",
       "      <td>0.030286</td>\n",
       "      <td>0.084830</td>\n",
       "      <td>0.003076</td>\n",
       "      <td>-0.185844</td>\n",
       "      <td>-0.285278</td>\n",
       "      <td>0.103527</td>\n",
       "      <td>0.346928</td>\n",
       "      <td>1.000000</td>\n",
       "      <td>0.267022</td>\n",
       "      <td>-0.564213</td>\n",
       "      <td>-0.289424</td>\n",
       "      <td>-0.278768</td>\n",
       "      <td>0.064255</td>\n",
       "      <td>0.049886</td>\n",
       "    </tr>\n",
       "    <tr>\n",
       "      <th>Latitude</th>\n",
       "      <td>-0.008867</td>\n",
       "      <td>0.024506</td>\n",
       "      <td>0.052538</td>\n",
       "      <td>-0.145945</td>\n",
       "      <td>0.049640</td>\n",
       "      <td>-0.014275</td>\n",
       "      <td>0.006162</td>\n",
       "      <td>-0.015008</td>\n",
       "      <td>0.111226</td>\n",
       "      <td>-0.015269</td>\n",
       "      <td>0.121208</td>\n",
       "      <td>0.148083</td>\n",
       "      <td>0.267022</td>\n",
       "      <td>1.000000</td>\n",
       "      <td>-0.135564</td>\n",
       "      <td>0.044501</td>\n",
       "      <td>-0.140795</td>\n",
       "      <td>0.029357</td>\n",
       "      <td>0.020010</td>\n",
       "    </tr>\n",
       "    <tr>\n",
       "      <th>Longitude</th>\n",
       "      <td>0.129997</td>\n",
       "      <td>0.223332</td>\n",
       "      <td>0.240124</td>\n",
       "      <td>0.376102</td>\n",
       "      <td>0.125724</td>\n",
       "      <td>-0.041934</td>\n",
       "      <td>-0.078472</td>\n",
       "      <td>-0.106546</td>\n",
       "      <td>0.201765</td>\n",
       "      <td>0.360187</td>\n",
       "      <td>-0.177197</td>\n",
       "      <td>-0.409548</td>\n",
       "      <td>-0.564213</td>\n",
       "      <td>-0.135564</td>\n",
       "      <td>1.000000</td>\n",
       "      <td>0.338406</td>\n",
       "      <td>0.378116</td>\n",
       "      <td>-0.068426</td>\n",
       "      <td>-0.055290</td>\n",
       "    </tr>\n",
       "    <tr>\n",
       "      <th>Living Area after Renovation (in Sqft)</th>\n",
       "      <td>0.404806</td>\n",
       "      <td>0.572407</td>\n",
       "      <td>0.739515</td>\n",
       "      <td>0.361633</td>\n",
       "      <td>0.277817</td>\n",
       "      <td>0.080573</td>\n",
       "      <td>0.268524</td>\n",
       "      <td>-0.090182</td>\n",
       "      <td>0.676795</td>\n",
       "      <td>0.720753</td>\n",
       "      <td>0.166776</td>\n",
       "      <td>-0.333976</td>\n",
       "      <td>-0.289424</td>\n",
       "      <td>0.044501</td>\n",
       "      <td>0.338406</td>\n",
       "      <td>1.000000</td>\n",
       "      <td>0.372588</td>\n",
       "      <td>-0.004737</td>\n",
       "      <td>-0.010225</td>\n",
       "    </tr>\n",
       "    <tr>\n",
       "      <th>Lot Area after Renovation (in Sqft)</th>\n",
       "      <td>0.154329</td>\n",
       "      <td>0.095798</td>\n",
       "      <td>0.318573</td>\n",
       "      <td>0.917835</td>\n",
       "      <td>-0.210687</td>\n",
       "      <td>0.083232</td>\n",
       "      <td>0.118788</td>\n",
       "      <td>0.073370</td>\n",
       "      <td>0.167561</td>\n",
       "      <td>0.301163</td>\n",
       "      <td>0.045337</td>\n",
       "      <td>-0.029929</td>\n",
       "      <td>-0.278768</td>\n",
       "      <td>-0.140795</td>\n",
       "      <td>0.378116</td>\n",
       "      <td>0.372588</td>\n",
       "      <td>1.000000</td>\n",
       "      <td>0.021949</td>\n",
       "      <td>0.029389</td>\n",
       "    </tr>\n",
       "    <tr>\n",
       "      <th>Ever Renovated</th>\n",
       "      <td>0.018555</td>\n",
       "      <td>0.050239</td>\n",
       "      <td>0.055111</td>\n",
       "      <td>0.022789</td>\n",
       "      <td>0.006318</td>\n",
       "      <td>0.093291</td>\n",
       "      <td>0.104051</td>\n",
       "      <td>-0.060152</td>\n",
       "      <td>0.010010</td>\n",
       "      <td>0.026070</td>\n",
       "      <td>0.067745</td>\n",
       "      <td>0.225182</td>\n",
       "      <td>0.064255</td>\n",
       "      <td>0.029357</td>\n",
       "      <td>-0.068426</td>\n",
       "      <td>-0.004737</td>\n",
       "      <td>0.021949</td>\n",
       "      <td>1.000000</td>\n",
       "      <td>0.803743</td>\n",
       "    </tr>\n",
       "    <tr>\n",
       "      <th>Years Since Renovation</th>\n",
       "      <td>-0.006734</td>\n",
       "      <td>0.004644</td>\n",
       "      <td>0.024552</td>\n",
       "      <td>0.033036</td>\n",
       "      <td>-0.000379</td>\n",
       "      <td>0.105822</td>\n",
       "      <td>0.094621</td>\n",
       "      <td>-0.012115</td>\n",
       "      <td>-0.023473</td>\n",
       "      <td>0.013457</td>\n",
       "      <td>0.028257</td>\n",
       "      <td>0.204446</td>\n",
       "      <td>0.049886</td>\n",
       "      <td>0.020010</td>\n",
       "      <td>-0.055290</td>\n",
       "      <td>-0.010225</td>\n",
       "      <td>0.029389</td>\n",
       "      <td>0.803743</td>\n",
       "      <td>1.000000</td>\n",
       "    </tr>\n",
       "  </tbody>\n",
       "</table>\n",
       "</div>"
      ],
      "text/plain": [
       "                                           No of Bedrooms  No of Bathrooms  \\\n",
       "No of Bedrooms                                   1.000000         0.516645   \n",
       "No of Bathrooms                                  0.516645         1.000000   \n",
       "Flat Area (in Sqft)                              0.577469         0.754415   \n",
       "Lot Area (in Sqft)                               0.175425         0.105010   \n",
       "No of Floors                                     0.175995         0.500980   \n",
       "Waterfront View                                 -0.006617         0.063683   \n",
       "No of Times Visited                              0.079649         0.187657   \n",
       "Condition of the House                           0.028514        -0.124874   \n",
       "Overall Grade                                    0.349933         0.635778   \n",
       "Area of the House from Basement (in Sqft)        0.509475         0.696041   \n",
       "Basement Area (in Sqft)                          0.276781         0.254042   \n",
       "Age of House (in Years)                         -0.154613        -0.506206   \n",
       "Zipcode                                         -0.153163        -0.204097   \n",
       "Latitude                                        -0.008867         0.024506   \n",
       "Longitude                                        0.129997         0.223332   \n",
       "Living Area after Renovation (in Sqft)           0.404806         0.572407   \n",
       "Lot Area after Renovation (in Sqft)              0.154329         0.095798   \n",
       "Ever Renovated                                   0.018555         0.050239   \n",
       "Years Since Renovation                          -0.006734         0.004644   \n",
       "\n",
       "                                           Flat Area (in Sqft)  \\\n",
       "No of Bedrooms                                        0.577469   \n",
       "No of Bathrooms                                       0.754415   \n",
       "Flat Area (in Sqft)                                   1.000000   \n",
       "Lot Area (in Sqft)                                    0.341571   \n",
       "No of Floors                                          0.354268   \n",
       "Waterfront View                                       0.103841   \n",
       "No of Times Visited                                   0.284678   \n",
       "Condition of the House                               -0.058922   \n",
       "Overall Grade                                         0.705725   \n",
       "Area of the House from Basement (in Sqft)             0.853690   \n",
       "Basement Area (in Sqft)                               0.373296   \n",
       "Age of House (in Years)                              -0.318146   \n",
       "Zipcode                                              -0.199380   \n",
       "Latitude                                              0.052538   \n",
       "Longitude                                             0.240124   \n",
       "Living Area after Renovation (in Sqft)                0.739515   \n",
       "Lot Area after Renovation (in Sqft)                   0.318573   \n",
       "Ever Renovated                                        0.055111   \n",
       "Years Since Renovation                                0.024552   \n",
       "\n",
       "                                           Lot Area (in Sqft)  No of Floors  \\\n",
       "No of Bedrooms                                       0.175425      0.175995   \n",
       "No of Bathrooms                                      0.105010      0.500980   \n",
       "Flat Area (in Sqft)                                  0.341571      0.354268   \n",
       "Lot Area (in Sqft)                                   1.000000     -0.218404   \n",
       "No of Floors                                        -0.218404      1.000000   \n",
       "Waterfront View                                      0.074316      0.023721   \n",
       "No of Times Visited                                  0.121698      0.029503   \n",
       "Condition of the House                               0.066113     -0.263676   \n",
       "Overall Grade                                        0.165807      0.461442   \n",
       "Area of the House from Basement (in Sqft)            0.319715      0.548408   \n",
       "Basement Area (in Sqft)                              0.056278     -0.266598   \n",
       "Age of House (in Years)                             -0.006100     -0.489232   \n",
       "Zipcode                                             -0.279267     -0.059289   \n",
       "Latitude                                            -0.145945      0.049640   \n",
       "Longitude                                            0.376102      0.125724   \n",
       "Living Area after Renovation (in Sqft)               0.361633      0.277817   \n",
       "Lot Area after Renovation (in Sqft)                  0.917835     -0.210687   \n",
       "Ever Renovated                                       0.022789      0.006318   \n",
       "Years Since Renovation                               0.033036     -0.000379   \n",
       "\n",
       "                                           Waterfront View  \\\n",
       "No of Bedrooms                                   -0.006617   \n",
       "No of Bathrooms                                   0.063683   \n",
       "Flat Area (in Sqft)                               0.103841   \n",
       "Lot Area (in Sqft)                                0.074316   \n",
       "No of Floors                                      0.023721   \n",
       "Waterfront View                                   1.000000   \n",
       "No of Times Visited                               0.401856   \n",
       "Condition of the House                            0.016650   \n",
       "Overall Grade                                     0.070332   \n",
       "Area of the House from Basement (in Sqft)         0.063294   \n",
       "Basement Area (in Sqft)                           0.063276   \n",
       "Age of House (in Years)                           0.026149   \n",
       "Zipcode                                           0.030286   \n",
       "Latitude                                         -0.014275   \n",
       "Longitude                                        -0.041934   \n",
       "Living Area after Renovation (in Sqft)            0.080573   \n",
       "Lot Area after Renovation (in Sqft)               0.083232   \n",
       "Ever Renovated                                    0.093291   \n",
       "Years Since Renovation                            0.105822   \n",
       "\n",
       "                                           No of Times Visited  \\\n",
       "No of Bedrooms                                        0.079649   \n",
       "No of Bathrooms                                       0.187657   \n",
       "Flat Area (in Sqft)                                   0.284678   \n",
       "Lot Area (in Sqft)                                    0.121698   \n",
       "No of Floors                                          0.029503   \n",
       "Waterfront View                                       0.401856   \n",
       "No of Times Visited                                   1.000000   \n",
       "Condition of the House                                0.045978   \n",
       "Overall Grade                                         0.223661   \n",
       "Area of the House from Basement (in Sqft)             0.161106   \n",
       "Basement Area (in Sqft)                               0.249446   \n",
       "Age of House (in Years)                               0.053395   \n",
       "Zipcode                                               0.084830   \n",
       "Latitude                                              0.006162   \n",
       "Longitude                                            -0.078472   \n",
       "Living Area after Renovation (in Sqft)                0.268524   \n",
       "Lot Area after Renovation (in Sqft)                   0.118788   \n",
       "Ever Renovated                                        0.104051   \n",
       "Years Since Renovation                                0.094621   \n",
       "\n",
       "                                           Condition of the House  \\\n",
       "No of Bedrooms                                           0.028514   \n",
       "No of Bathrooms                                         -0.124874   \n",
       "Flat Area (in Sqft)                                     -0.058922   \n",
       "Lot Area (in Sqft)                                       0.066113   \n",
       "No of Floors                                            -0.263676   \n",
       "Waterfront View                                          0.016650   \n",
       "No of Times Visited                                      0.045978   \n",
       "Condition of the House                                   1.000000   \n",
       "Overall Grade                                           -0.143747   \n",
       "Area of the House from Basement (in Sqft)               -0.153588   \n",
       "Basement Area (in Sqft)                                  0.176043   \n",
       "Age of House (in Years)                                  0.361383   \n",
       "Zipcode                                                  0.003076   \n",
       "Latitude                                                -0.015008   \n",
       "Longitude                                               -0.106546   \n",
       "Living Area after Renovation (in Sqft)                  -0.090182   \n",
       "Lot Area after Renovation (in Sqft)                      0.073370   \n",
       "Ever Renovated                                          -0.060152   \n",
       "Years Since Renovation                                  -0.012115   \n",
       "\n",
       "                                           Overall Grade  \\\n",
       "No of Bedrooms                                  0.349933   \n",
       "No of Bathrooms                                 0.635778   \n",
       "Flat Area (in Sqft)                             0.705725   \n",
       "Lot Area (in Sqft)                              0.165807   \n",
       "No of Floors                                    0.461442   \n",
       "Waterfront View                                 0.070332   \n",
       "No of Times Visited                             0.223661   \n",
       "Condition of the House                         -0.143747   \n",
       "Overall Grade                                   1.000000   \n",
       "Area of the House from Basement (in Sqft)       0.723789   \n",
       "Basement Area (in Sqft)                         0.116078   \n",
       "Age of House (in Years)                        -0.456711   \n",
       "Zipcode                                        -0.185844   \n",
       "Latitude                                        0.111226   \n",
       "Longitude                                       0.201765   \n",
       "Living Area after Renovation (in Sqft)          0.676795   \n",
       "Lot Area after Renovation (in Sqft)             0.167561   \n",
       "Ever Renovated                                  0.010010   \n",
       "Years Since Renovation                         -0.023473   \n",
       "\n",
       "                                           Area of the House from Basement (in Sqft)  \\\n",
       "No of Bedrooms                                                              0.509475   \n",
       "No of Bathrooms                                                             0.696041   \n",
       "Flat Area (in Sqft)                                                         0.853690   \n",
       "Lot Area (in Sqft)                                                          0.319715   \n",
       "No of Floors                                                                0.548408   \n",
       "Waterfront View                                                             0.063294   \n",
       "No of Times Visited                                                         0.161106   \n",
       "Condition of the House                                                     -0.153588   \n",
       "Overall Grade                                                               0.723789   \n",
       "Area of the House from Basement (in Sqft)                                   1.000000   \n",
       "Basement Area (in Sqft)                                                    -0.111289   \n",
       "Age of House (in Years)                                                    -0.448692   \n",
       "Zipcode                                                                    -0.285278   \n",
       "Latitude                                                                   -0.015269   \n",
       "Longitude                                                                   0.360187   \n",
       "Living Area after Renovation (in Sqft)                                      0.720753   \n",
       "Lot Area after Renovation (in Sqft)                                         0.301163   \n",
       "Ever Renovated                                                              0.026070   \n",
       "Years Since Renovation                                                      0.013457   \n",
       "\n",
       "                                           Basement Area (in Sqft)  \\\n",
       "No of Bedrooms                                            0.276781   \n",
       "No of Bathrooms                                           0.254042   \n",
       "Flat Area (in Sqft)                                       0.373296   \n",
       "Lot Area (in Sqft)                                        0.056278   \n",
       "No of Floors                                             -0.266598   \n",
       "Waterfront View                                           0.063276   \n",
       "No of Times Visited                                       0.249446   \n",
       "Condition of the House                                    0.176043   \n",
       "Overall Grade                                             0.116078   \n",
       "Area of the House from Basement (in Sqft)                -0.111289   \n",
       "Basement Area (in Sqft)                                   1.000000   \n",
       "Age of House (in Years)                                   0.153930   \n",
       "Zipcode                                                   0.103527   \n",
       "Latitude                                                  0.121208   \n",
       "Longitude                                                -0.177197   \n",
       "Living Area after Renovation (in Sqft)                    0.166776   \n",
       "Lot Area after Renovation (in Sqft)                       0.045337   \n",
       "Ever Renovated                                            0.067745   \n",
       "Years Since Renovation                                    0.028257   \n",
       "\n",
       "                                           Age of House (in Years)   Zipcode  \\\n",
       "No of Bedrooms                                           -0.154613 -0.153163   \n",
       "No of Bathrooms                                          -0.506206 -0.204097   \n",
       "Flat Area (in Sqft)                                      -0.318146 -0.199380   \n",
       "Lot Area (in Sqft)                                       -0.006100 -0.279267   \n",
       "No of Floors                                             -0.489232 -0.059289   \n",
       "Waterfront View                                           0.026149  0.030286   \n",
       "No of Times Visited                                       0.053395  0.084830   \n",
       "Condition of the House                                    0.361383  0.003076   \n",
       "Overall Grade                                            -0.456711 -0.185844   \n",
       "Area of the House from Basement (in Sqft)                -0.448692 -0.285278   \n",
       "Basement Area (in Sqft)                                   0.153930  0.103527   \n",
       "Age of House (in Years)                                   1.000000  0.346928   \n",
       "Zipcode                                                   0.346928  1.000000   \n",
       "Latitude                                                  0.148083  0.267022   \n",
       "Longitude                                                -0.409548 -0.564213   \n",
       "Living Area after Renovation (in Sqft)                   -0.333976 -0.289424   \n",
       "Lot Area after Renovation (in Sqft)                      -0.029929 -0.278768   \n",
       "Ever Renovated                                            0.225182  0.064255   \n",
       "Years Since Renovation                                    0.204446  0.049886   \n",
       "\n",
       "                                           Latitude  Longitude  \\\n",
       "No of Bedrooms                            -0.008867   0.129997   \n",
       "No of Bathrooms                            0.024506   0.223332   \n",
       "Flat Area (in Sqft)                        0.052538   0.240124   \n",
       "Lot Area (in Sqft)                        -0.145945   0.376102   \n",
       "No of Floors                               0.049640   0.125724   \n",
       "Waterfront View                           -0.014275  -0.041934   \n",
       "No of Times Visited                        0.006162  -0.078472   \n",
       "Condition of the House                    -0.015008  -0.106546   \n",
       "Overall Grade                              0.111226   0.201765   \n",
       "Area of the House from Basement (in Sqft) -0.015269   0.360187   \n",
       "Basement Area (in Sqft)                    0.121208  -0.177197   \n",
       "Age of House (in Years)                    0.148083  -0.409548   \n",
       "Zipcode                                    0.267022  -0.564213   \n",
       "Latitude                                   1.000000  -0.135564   \n",
       "Longitude                                 -0.135564   1.000000   \n",
       "Living Area after Renovation (in Sqft)     0.044501   0.338406   \n",
       "Lot Area after Renovation (in Sqft)       -0.140795   0.378116   \n",
       "Ever Renovated                             0.029357  -0.068426   \n",
       "Years Since Renovation                     0.020010  -0.055290   \n",
       "\n",
       "                                           Living Area after Renovation (in Sqft)  \\\n",
       "No of Bedrooms                                                           0.404806   \n",
       "No of Bathrooms                                                          0.572407   \n",
       "Flat Area (in Sqft)                                                      0.739515   \n",
       "Lot Area (in Sqft)                                                       0.361633   \n",
       "No of Floors                                                             0.277817   \n",
       "Waterfront View                                                          0.080573   \n",
       "No of Times Visited                                                      0.268524   \n",
       "Condition of the House                                                  -0.090182   \n",
       "Overall Grade                                                            0.676795   \n",
       "Area of the House from Basement (in Sqft)                                0.720753   \n",
       "Basement Area (in Sqft)                                                  0.166776   \n",
       "Age of House (in Years)                                                 -0.333976   \n",
       "Zipcode                                                                 -0.289424   \n",
       "Latitude                                                                 0.044501   \n",
       "Longitude                                                                0.338406   \n",
       "Living Area after Renovation (in Sqft)                                   1.000000   \n",
       "Lot Area after Renovation (in Sqft)                                      0.372588   \n",
       "Ever Renovated                                                          -0.004737   \n",
       "Years Since Renovation                                                  -0.010225   \n",
       "\n",
       "                                           Lot Area after Renovation (in Sqft)  \\\n",
       "No of Bedrooms                                                        0.154329   \n",
       "No of Bathrooms                                                       0.095798   \n",
       "Flat Area (in Sqft)                                                   0.318573   \n",
       "Lot Area (in Sqft)                                                    0.917835   \n",
       "No of Floors                                                         -0.210687   \n",
       "Waterfront View                                                       0.083232   \n",
       "No of Times Visited                                                   0.118788   \n",
       "Condition of the House                                                0.073370   \n",
       "Overall Grade                                                         0.167561   \n",
       "Area of the House from Basement (in Sqft)                             0.301163   \n",
       "Basement Area (in Sqft)                                               0.045337   \n",
       "Age of House (in Years)                                              -0.029929   \n",
       "Zipcode                                                              -0.278768   \n",
       "Latitude                                                             -0.140795   \n",
       "Longitude                                                             0.378116   \n",
       "Living Area after Renovation (in Sqft)                                0.372588   \n",
       "Lot Area after Renovation (in Sqft)                                   1.000000   \n",
       "Ever Renovated                                                        0.021949   \n",
       "Years Since Renovation                                                0.029389   \n",
       "\n",
       "                                           Ever Renovated  \\\n",
       "No of Bedrooms                                   0.018555   \n",
       "No of Bathrooms                                  0.050239   \n",
       "Flat Area (in Sqft)                              0.055111   \n",
       "Lot Area (in Sqft)                               0.022789   \n",
       "No of Floors                                     0.006318   \n",
       "Waterfront View                                  0.093291   \n",
       "No of Times Visited                              0.104051   \n",
       "Condition of the House                          -0.060152   \n",
       "Overall Grade                                    0.010010   \n",
       "Area of the House from Basement (in Sqft)        0.026070   \n",
       "Basement Area (in Sqft)                          0.067745   \n",
       "Age of House (in Years)                          0.225182   \n",
       "Zipcode                                          0.064255   \n",
       "Latitude                                         0.029357   \n",
       "Longitude                                       -0.068426   \n",
       "Living Area after Renovation (in Sqft)          -0.004737   \n",
       "Lot Area after Renovation (in Sqft)              0.021949   \n",
       "Ever Renovated                                   1.000000   \n",
       "Years Since Renovation                           0.803743   \n",
       "\n",
       "                                           Years Since Renovation  \n",
       "No of Bedrooms                                          -0.006734  \n",
       "No of Bathrooms                                          0.004644  \n",
       "Flat Area (in Sqft)                                      0.024552  \n",
       "Lot Area (in Sqft)                                       0.033036  \n",
       "No of Floors                                            -0.000379  \n",
       "Waterfront View                                          0.105822  \n",
       "No of Times Visited                                      0.094621  \n",
       "Condition of the House                                  -0.012115  \n",
       "Overall Grade                                           -0.023473  \n",
       "Area of the House from Basement (in Sqft)                0.013457  \n",
       "Basement Area (in Sqft)                                  0.028257  \n",
       "Age of House (in Years)                                  0.204446  \n",
       "Zipcode                                                  0.049886  \n",
       "Latitude                                                 0.020010  \n",
       "Longitude                                               -0.055290  \n",
       "Living Area after Renovation (in Sqft)                  -0.010225  \n",
       "Lot Area after Renovation (in Sqft)                      0.029389  \n",
       "Ever Renovated                                           0.803743  \n",
       "Years Since Renovation                                   1.000000  "
      ]
     },
     "execution_count": 52,
     "metadata": {},
     "output_type": "execute_result"
    }
   ],
   "source": [
    "X.corr()"
   ]
  },
  {
   "cell_type": "code",
   "execution_count": 53,
   "metadata": {
    "colab": {
     "base_uri": "https://localhost:8080/",
     "height": 646
    },
    "colab_type": "code",
    "executionInfo": {
     "elapsed": 14257,
     "status": "ok",
     "timestamp": 1592370780582,
     "user": {
      "displayName": "Sharoon Saxena",
      "photoUrl": "https://lh3.googleusercontent.com/a-/AOh14GjyKz9rNCPkHi6QK8TjrjBFlTtaI9ngf0hIwgAl=s64",
      "userId": "01167841530696023488"
     },
     "user_tz": -330
    },
    "id": "bEytl7JP0UrO",
    "outputId": "1e37333d-68e1-459b-e678-beed5f256eee"
   },
   "outputs": [
    {
     "data": {
      "text/plain": [
       "([['No of Bedrooms', 'No of Bathrooms'],\n",
       "  ['No of Bedrooms', 'Flat Area (in Sqft)'],\n",
       "  ['No of Bedrooms', 'Area of the House from Basement (in Sqft)'],\n",
       "  ['No of Bathrooms', 'No of Bedrooms'],\n",
       "  ['No of Bathrooms', 'Flat Area (in Sqft)'],\n",
       "  ['No of Bathrooms', 'No of Floors'],\n",
       "  ['No of Bathrooms', 'Overall Grade'],\n",
       "  ['No of Bathrooms', 'Area of the House from Basement (in Sqft)'],\n",
       "  ['No of Bathrooms', 'Living Area after Renovation (in Sqft)'],\n",
       "  ['Flat Area (in Sqft)', 'No of Bedrooms'],\n",
       "  ['Flat Area (in Sqft)', 'No of Bathrooms'],\n",
       "  ['Flat Area (in Sqft)', 'Overall Grade'],\n",
       "  ['Flat Area (in Sqft)', 'Area of the House from Basement (in Sqft)'],\n",
       "  ['Flat Area (in Sqft)', 'Living Area after Renovation (in Sqft)'],\n",
       "  ['Lot Area (in Sqft)', 'Lot Area after Renovation (in Sqft)'],\n",
       "  ['No of Floors', 'No of Bathrooms'],\n",
       "  ['No of Floors', 'Area of the House from Basement (in Sqft)'],\n",
       "  ['Overall Grade', 'No of Bathrooms'],\n",
       "  ['Overall Grade', 'Flat Area (in Sqft)'],\n",
       "  ['Overall Grade', 'Area of the House from Basement (in Sqft)'],\n",
       "  ['Overall Grade', 'Living Area after Renovation (in Sqft)'],\n",
       "  ['Area of the House from Basement (in Sqft)', 'No of Bedrooms'],\n",
       "  ['Area of the House from Basement (in Sqft)', 'No of Bathrooms'],\n",
       "  ['Area of the House from Basement (in Sqft)', 'Flat Area (in Sqft)'],\n",
       "  ['Area of the House from Basement (in Sqft)', 'No of Floors'],\n",
       "  ['Area of the House from Basement (in Sqft)', 'Overall Grade'],\n",
       "  ['Area of the House from Basement (in Sqft)',\n",
       "   'Living Area after Renovation (in Sqft)'],\n",
       "  ['Living Area after Renovation (in Sqft)', 'No of Bathrooms'],\n",
       "  ['Living Area after Renovation (in Sqft)', 'Flat Area (in Sqft)'],\n",
       "  ['Living Area after Renovation (in Sqft)', 'Overall Grade'],\n",
       "  ['Living Area after Renovation (in Sqft)',\n",
       "   'Area of the House from Basement (in Sqft)'],\n",
       "  ['Lot Area after Renovation (in Sqft)', 'Lot Area (in Sqft)'],\n",
       "  ['Ever Renovated', 'Years Since Renovation'],\n",
       "  ['Years Since Renovation', 'Ever Renovated']],\n",
       " 34)"
      ]
     },
     "execution_count": 53,
     "metadata": {},
     "output_type": "execute_result"
    }
   ],
   "source": [
    "#pair of independent variables with correlation greater than 0.5\n",
    "k = X.corr()\n",
    "z = [[str(i),str(j)] for i in k.columns for j in k.columns if (k.loc[i,j] >abs(0.5))&(i!=j)]\n",
    "z, len(z)"
   ]
  },
  {
   "cell_type": "markdown",
   "metadata": {
    "colab_type": "text",
    "id": "SsVck61n0UrS"
   },
   "source": [
    "### Calculating VIF"
   ]
  },
  {
   "cell_type": "code",
   "execution_count": 54,
   "metadata": {
    "colab": {
     "base_uri": "https://localhost:8080/",
     "height": 357
    },
    "colab_type": "code",
    "executionInfo": {
     "elapsed": 14247,
     "status": "ok",
     "timestamp": 1592370780583,
     "user": {
      "displayName": "Sharoon Saxena",
      "photoUrl": "https://lh3.googleusercontent.com/a-/AOh14GjyKz9rNCPkHi6QK8TjrjBFlTtaI9ngf0hIwgAl=s64",
      "userId": "01167841530696023488"
     },
     "user_tz": -330
    },
    "id": "m_FAS6W80UrT",
    "outputId": "102d16dd-8011-488e-afbb-f8ab40c4ba8d"
   },
   "outputs": [
    {
     "data": {
      "text/plain": [
       "No of Bedrooms                                1.736931\n",
       "No of Bathrooms                               3.424393\n",
       "Flat Area (in Sqft)                          21.514533\n",
       "Lot Area (in Sqft)                            6.844925\n",
       "No of Floors                                  2.388708\n",
       "Waterfront View                               1.211015\n",
       "No of Times Visited                           1.415596\n",
       "Condition of the House                        1.260549\n",
       "Overall Grade                                 2.905865\n",
       "Area of the House from Basement (in Sqft)    23.289239\n",
       "Basement Area (in Sqft)                       6.561328\n",
       "Age of House (in Years)                       2.458302\n",
       "Zipcode                                       1.668833\n",
       "Latitude                                      1.191495\n",
       "Longitude                                     1.880317\n",
       "Living Area after Renovation (in Sqft)        2.917259\n",
       "Lot Area after Renovation (in Sqft)           6.603083\n",
       "Ever Renovated                                3.022760\n",
       "Years Since Renovation                        2.872050\n",
       "dtype: float64"
      ]
     },
     "execution_count": 54,
     "metadata": {},
     "output_type": "execute_result"
    }
   ],
   "source": [
    "#Importing Variance_inflation_Factor funtion from the Statsmodels\n",
    "from statsmodels.stats.outliers_influence import variance_inflation_factor\n",
    "\n",
    "vif_data = X[:]\n",
    "\n",
    "#Calculating VIF for every column\n",
    "VIF = pd.Series([variance_inflation_factor(vif_data.values, i) for i in range(vif_data.shape[1])], index = vif_data.columns)\n",
    "VIF"
   ]
  },
  {
   "cell_type": "code",
   "execution_count": 55,
   "metadata": {
    "colab": {},
    "colab_type": "code",
    "executionInfo": {
     "elapsed": 14235,
     "status": "ok",
     "timestamp": 1592370780583,
     "user": {
      "displayName": "Sharoon Saxena",
      "photoUrl": "https://lh3.googleusercontent.com/a-/AOh14GjyKz9rNCPkHi6QK8TjrjBFlTtaI9ngf0hIwgAl=s64",
      "userId": "01167841530696023488"
     },
     "user_tz": -330
    },
    "id": "A5OtkErr0Urc"
   },
   "outputs": [],
   "source": [
    "def MC_remover(data):\n",
    "  vif = pd.Series([variance_inflation_factor(data.values, i) for i in range(data.shape[1])], index = data.columns)\n",
    "  if vif.max() > 5:\n",
    "    print(vif[vif == vif.max()].index[0],'has been removed')\n",
    "    data = data.drop(columns = [vif[vif == vif.max()].index[0]])\n",
    "    return data\n",
    "  else:\n",
    "    print('No Multicollinearity present anymore')\n",
    "    return data"
   ]
  },
  {
   "cell_type": "code",
   "execution_count": 56,
   "metadata": {
    "colab": {
     "base_uri": "https://localhost:8080/",
     "height": 374
    },
    "colab_type": "code",
    "executionInfo": {
     "elapsed": 18312,
     "status": "ok",
     "timestamp": 1592370784669,
     "user": {
      "displayName": "Sharoon Saxena",
      "photoUrl": "https://lh3.googleusercontent.com/a-/AOh14GjyKz9rNCPkHi6QK8TjrjBFlTtaI9ngf0hIwgAl=s64",
      "userId": "01167841530696023488"
     },
     "user_tz": -330
    },
    "id": "BS-NvcQl0Ure",
    "outputId": "7827fd93-6748-4215-b0c4-0febbc64b458"
   },
   "outputs": [
    {
     "name": "stdout",
     "output_type": "stream",
     "text": [
      "Area of the House from Basement (in Sqft) has been removed\n",
      "Lot Area (in Sqft) has been removed\n",
      "Flat Area (in Sqft) has been removed\n",
      "No Multicollinearity present anymore\n",
      "No Multicollinearity present anymore\n",
      "No Multicollinearity present anymore\n",
      "No Multicollinearity present anymore\n"
     ]
    },
    {
     "data": {
      "text/html": [
       "<div>\n",
       "<style scoped>\n",
       "    .dataframe tbody tr th:only-of-type {\n",
       "        vertical-align: middle;\n",
       "    }\n",
       "\n",
       "    .dataframe tbody tr th {\n",
       "        vertical-align: top;\n",
       "    }\n",
       "\n",
       "    .dataframe thead th {\n",
       "        text-align: right;\n",
       "    }\n",
       "</style>\n",
       "<table border=\"1\" class=\"dataframe\">\n",
       "  <thead>\n",
       "    <tr style=\"text-align: right;\">\n",
       "      <th></th>\n",
       "      <th>No of Bedrooms</th>\n",
       "      <th>No of Bathrooms</th>\n",
       "      <th>No of Floors</th>\n",
       "      <th>Waterfront View</th>\n",
       "      <th>No of Times Visited</th>\n",
       "      <th>Condition of the House</th>\n",
       "      <th>Overall Grade</th>\n",
       "      <th>Basement Area (in Sqft)</th>\n",
       "      <th>Age of House (in Years)</th>\n",
       "      <th>Zipcode</th>\n",
       "      <th>Latitude</th>\n",
       "      <th>Longitude</th>\n",
       "      <th>Living Area after Renovation (in Sqft)</th>\n",
       "      <th>Lot Area after Renovation (in Sqft)</th>\n",
       "      <th>Ever Renovated</th>\n",
       "      <th>Years Since Renovation</th>\n",
       "    </tr>\n",
       "  </thead>\n",
       "  <tbody>\n",
       "    <tr>\n",
       "      <th>0</th>\n",
       "      <td>-0.398647</td>\n",
       "      <td>-1.448931</td>\n",
       "      <td>-0.915604</td>\n",
       "      <td>-0.087181</td>\n",
       "      <td>-0.30579</td>\n",
       "      <td>-0.629203</td>\n",
       "      <td>-0.563993</td>\n",
       "      <td>-0.726332</td>\n",
       "      <td>0.544734</td>\n",
       "      <td>1.870094</td>\n",
       "      <td>-0.352576</td>\n",
       "      <td>-0.306108</td>\n",
       "      <td>-1.027547</td>\n",
       "      <td>-0.416515</td>\n",
       "      <td>-0.210155</td>\n",
       "      <td>-0.168911</td>\n",
       "    </tr>\n",
       "    <tr>\n",
       "      <th>1</th>\n",
       "      <td>-0.398647</td>\n",
       "      <td>0.176496</td>\n",
       "      <td>0.937193</td>\n",
       "      <td>-0.087181</td>\n",
       "      <td>-0.30579</td>\n",
       "      <td>-0.629203</td>\n",
       "      <td>-0.563993</td>\n",
       "      <td>0.538457</td>\n",
       "      <td>0.680915</td>\n",
       "      <td>0.879534</td>\n",
       "      <td>1.161645</td>\n",
       "      <td>-0.746519</td>\n",
       "      <td>-0.355983</td>\n",
       "      <td>-0.048331</td>\n",
       "      <td>4.758385</td>\n",
       "      <td>4.827106</td>\n",
       "    </tr>\n",
       "    <tr>\n",
       "      <th>2</th>\n",
       "      <td>-1.477788</td>\n",
       "      <td>-1.448931</td>\n",
       "      <td>-0.915604</td>\n",
       "      <td>-0.087181</td>\n",
       "      <td>-0.30579</td>\n",
       "      <td>-0.629203</td>\n",
       "      <td>-1.468566</td>\n",
       "      <td>-0.726332</td>\n",
       "      <td>1.293731</td>\n",
       "      <td>-0.933379</td>\n",
       "      <td>1.283619</td>\n",
       "      <td>-0.135646</td>\n",
       "      <td>1.130637</td>\n",
       "      <td>0.018241</td>\n",
       "      <td>-0.210155</td>\n",
       "      <td>-0.168911</td>\n",
       "    </tr>\n",
       "    <tr>\n",
       "      <th>3</th>\n",
       "      <td>0.678352</td>\n",
       "      <td>1.149811</td>\n",
       "      <td>-0.915604</td>\n",
       "      <td>-0.087181</td>\n",
       "      <td>-0.30579</td>\n",
       "      <td>2.444136</td>\n",
       "      <td>-0.563993</td>\n",
       "      <td>1.504500</td>\n",
       "      <td>0.204281</td>\n",
       "      <td>1.085122</td>\n",
       "      <td>-0.283288</td>\n",
       "      <td>-1.272266</td>\n",
       "      <td>-0.985854</td>\n",
       "      <td>-0.563287</td>\n",
       "      <td>-0.210155</td>\n",
       "      <td>-0.168911</td>\n",
       "    </tr>\n",
       "    <tr>\n",
       "      <th>4</th>\n",
       "      <td>-0.398647</td>\n",
       "      <td>-0.148266</td>\n",
       "      <td>-0.915604</td>\n",
       "      <td>-0.087181</td>\n",
       "      <td>-0.30579</td>\n",
       "      <td>-0.629203</td>\n",
       "      <td>0.340581</td>\n",
       "      <td>-0.726332</td>\n",
       "      <td>-0.544715</td>\n",
       "      <td>-0.073647</td>\n",
       "      <td>0.409587</td>\n",
       "      <td>1.199268</td>\n",
       "      <td>-0.166983</td>\n",
       "      <td>-0.070472</td>\n",
       "      <td>-0.210155</td>\n",
       "      <td>-0.168911</td>\n",
       "    </tr>\n",
       "  </tbody>\n",
       "</table>\n",
       "</div>"
      ],
      "text/plain": [
       "   No of Bedrooms  No of Bathrooms  No of Floors  Waterfront View  \\\n",
       "0       -0.398647        -1.448931     -0.915604        -0.087181   \n",
       "1       -0.398647         0.176496      0.937193        -0.087181   \n",
       "2       -1.477788        -1.448931     -0.915604        -0.087181   \n",
       "3        0.678352         1.149811     -0.915604        -0.087181   \n",
       "4       -0.398647        -0.148266     -0.915604        -0.087181   \n",
       "\n",
       "   No of Times Visited  Condition of the House  Overall Grade  \\\n",
       "0             -0.30579               -0.629203      -0.563993   \n",
       "1             -0.30579               -0.629203      -0.563993   \n",
       "2             -0.30579               -0.629203      -1.468566   \n",
       "3             -0.30579                2.444136      -0.563993   \n",
       "4             -0.30579               -0.629203       0.340581   \n",
       "\n",
       "   Basement Area (in Sqft)  Age of House (in Years)   Zipcode  Latitude  \\\n",
       "0                -0.726332                 0.544734  1.870094 -0.352576   \n",
       "1                 0.538457                 0.680915  0.879534  1.161645   \n",
       "2                -0.726332                 1.293731 -0.933379  1.283619   \n",
       "3                 1.504500                 0.204281  1.085122 -0.283288   \n",
       "4                -0.726332                -0.544715 -0.073647  0.409587   \n",
       "\n",
       "   Longitude  Living Area after Renovation (in Sqft)  \\\n",
       "0  -0.306108                               -1.027547   \n",
       "1  -0.746519                               -0.355983   \n",
       "2  -0.135646                                1.130637   \n",
       "3  -1.272266                               -0.985854   \n",
       "4   1.199268                               -0.166983   \n",
       "\n",
       "   Lot Area after Renovation (in Sqft)  Ever Renovated  Years Since Renovation  \n",
       "0                            -0.416515       -0.210155               -0.168911  \n",
       "1                            -0.048331        4.758385                4.827106  \n",
       "2                             0.018241       -0.210155               -0.168911  \n",
       "3                            -0.563287       -0.210155               -0.168911  \n",
       "4                            -0.070472       -0.210155               -0.168911  "
      ]
     },
     "execution_count": 56,
     "metadata": {},
     "output_type": "execute_result"
    }
   ],
   "source": [
    "for i in range(7):\n",
    "  vif_data = MC_remover(vif_data)\n",
    "\n",
    "vif_data.head()"
   ]
  },
  {
   "cell_type": "markdown",
   "metadata": {
    "colab_type": "text",
    "id": "uuSq2y3b0Urh"
   },
   "source": [
    "### Remaining Columns"
   ]
  },
  {
   "cell_type": "code",
   "execution_count": 57,
   "metadata": {
    "colab": {
     "base_uri": "https://localhost:8080/",
     "height": 306
    },
    "colab_type": "code",
    "executionInfo": {
     "elapsed": 19536,
     "status": "ok",
     "timestamp": 1592370785905,
     "user": {
      "displayName": "Sharoon Saxena",
      "photoUrl": "https://lh3.googleusercontent.com/a-/AOh14GjyKz9rNCPkHi6QK8TjrjBFlTtaI9ngf0hIwgAl=s64",
      "userId": "01167841530696023488"
     },
     "user_tz": -330
    },
    "id": "7ui8gRrz0Urh",
    "outputId": "b3d675d5-68ba-4e79-b0b1-240673344566"
   },
   "outputs": [
    {
     "data": {
      "text/plain": [
       "(No of Bedrooms                            1.498157\n",
       " No of Bathrooms                           2.950107\n",
       " No of Floors                              2.185237\n",
       " Waterfront View                           1.209171\n",
       " No of Times Visited                       1.410593\n",
       " Condition of the House                    1.253804\n",
       " Overall Grade                             2.541427\n",
       " Basement Area (in Sqft)                   1.639834\n",
       " Age of House (in Years)                   2.392439\n",
       " Zipcode                                   1.666011\n",
       " Latitude                                  1.183389\n",
       " Longitude                                 1.857951\n",
       " Living Area after Renovation (in Sqft)    2.503466\n",
       " Lot Area after Renovation (in Sqft)       1.552630\n",
       " Ever Renovated                            3.017581\n",
       " Years Since Renovation                    2.868474\n",
       " dtype: float64,\n",
       " 16)"
      ]
     },
     "execution_count": 57,
     "metadata": {},
     "output_type": "execute_result"
    }
   ],
   "source": [
    "#Calculating VIF for remaining columns\n",
    "VIF = pd.Series([variance_inflation_factor(vif_data.values, i) for i in range(vif_data.shape[1])], index = vif_data.columns)\n",
    "VIF, len(vif_data.columns)"
   ]
  },
  {
   "cell_type": "code",
   "execution_count": 58,
   "metadata": {
    "colab": {},
    "colab_type": "code",
    "executionInfo": {
     "elapsed": 19525,
     "status": "ok",
     "timestamp": 1592370785906,
     "user": {
      "displayName": "Sharoon Saxena",
      "photoUrl": "https://lh3.googleusercontent.com/a-/AOh14GjyKz9rNCPkHi6QK8TjrjBFlTtaI9ngf0hIwgAl=s64",
      "userId": "01167841530696023488"
     },
     "user_tz": -330
    },
    "id": "cHDapkNnmjH2"
   },
   "outputs": [],
   "source": [
    "X = vif_data[:]"
   ]
  },
  {
   "cell_type": "markdown",
   "metadata": {
    "colab_type": "text",
    "id": "2OtqYbES1Ck-"
   },
   "source": [
    "## Train/Test set"
   ]
  },
  {
   "cell_type": "code",
   "execution_count": 59,
   "metadata": {
    "colab": {},
    "colab_type": "code",
    "executionInfo": {
     "elapsed": 19517,
     "status": "ok",
     "timestamp": 1592370785907,
     "user": {
      "displayName": "Sharoon Saxena",
      "photoUrl": "https://lh3.googleusercontent.com/a-/AOh14GjyKz9rNCPkHi6QK8TjrjBFlTtaI9ngf0hIwgAl=s64",
      "userId": "01167841530696023488"
     },
     "user_tz": -330
    },
    "id": "sDAXk48r0tRn"
   },
   "outputs": [],
   "source": [
    "Y = data['Sale Price']"
   ]
  },
  {
   "cell_type": "code",
   "execution_count": 60,
   "metadata": {
    "colab": {
     "base_uri": "https://localhost:8080/",
     "height": 34
    },
    "colab_type": "code",
    "executionInfo": {
     "elapsed": 19508,
     "status": "ok",
     "timestamp": 1592370785908,
     "user": {
      "displayName": "Sharoon Saxena",
      "photoUrl": "https://lh3.googleusercontent.com/a-/AOh14GjyKz9rNCPkHi6QK8TjrjBFlTtaI9ngf0hIwgAl=s64",
      "userId": "01167841530696023488"
     },
     "user_tz": -330
    },
    "id": "OnDOTUGt0tRp",
    "outputId": "b08ff91d-add6-43bb-96d9-e61e9e24dc76"
   },
   "outputs": [
    {
     "data": {
      "text/plain": [
       "((15126, 16), (6483, 16), (15126,), (6483,))"
      ]
     },
     "execution_count": 60,
     "metadata": {},
     "output_type": "execute_result"
    }
   ],
   "source": [
    "from sklearn.model_selection import train_test_split\n",
    "x_train, x_test, y_train, y_test = train_test_split(X, Y, test_size = 0.3, random_state = 101)\n",
    "\n",
    "x_train.shape, x_test.shape, y_train.shape, y_test.shape"
   ]
  },
  {
   "cell_type": "markdown",
   "metadata": {
    "colab_type": "text",
    "id": "eUpoopDQsSNr"
   },
   "source": [
    "## training model"
   ]
  },
  {
   "cell_type": "code",
   "execution_count": 61,
   "metadata": {
    "colab": {
     "base_uri": "https://localhost:8080/",
     "height": 34
    },
    "colab_type": "code",
    "executionInfo": {
     "elapsed": 19498,
     "status": "ok",
     "timestamp": 1592370785909,
     "user": {
      "displayName": "Sharoon Saxena",
      "photoUrl": "https://lh3.googleusercontent.com/a-/AOh14GjyKz9rNCPkHi6QK8TjrjBFlTtaI9ngf0hIwgAl=s64",
      "userId": "01167841530696023488"
     },
     "user_tz": -330
    },
    "id": "6Xq14RtASUDu",
    "outputId": "d9d16ba9-6060-4285-9839-3c364d1b892e"
   },
   "outputs": [
    {
     "data": {
      "text/plain": [
       "LinearRegression(normalize=True)"
      ]
     },
     "execution_count": 61,
     "metadata": {},
     "output_type": "execute_result"
    }
   ],
   "source": [
    "from sklearn.linear_model import LinearRegression\n",
    "lr = LinearRegression(normalize = True)\n",
    "lr.fit(x_train, y_train)"
   ]
  },
  {
   "cell_type": "code",
   "execution_count": 62,
   "metadata": {
    "colab": {
     "base_uri": "https://localhost:8080/",
     "height": 85
    },
    "colab_type": "code",
    "executionInfo": {
     "elapsed": 19485,
     "status": "ok",
     "timestamp": 1592370785909,
     "user": {
      "displayName": "Sharoon Saxena",
      "photoUrl": "https://lh3.googleusercontent.com/a-/AOh14GjyKz9rNCPkHi6QK8TjrjBFlTtaI9ngf0hIwgAl=s64",
      "userId": "01167841530696023488"
     },
     "user_tz": -330
    },
    "id": "sCpv3oAEQeet",
    "outputId": "ce8c867b-d5af-4f4c-8d30-7f2c0f26faa9"
   },
   "outputs": [
    {
     "data": {
      "text/plain": [
       "array([  1584.86669312,  42601.67421626,  23310.57525319,   9989.31321342,\n",
       "        30480.01914579,  16059.91826464, 108934.75599668,  11330.36808308,\n",
       "        65047.79835963, -15608.43858763,  75617.37499127,  -7749.57798632,\n",
       "        54292.09103532,   2016.74778297,  16444.49611058, -11320.49390293])"
      ]
     },
     "execution_count": 62,
     "metadata": {},
     "output_type": "execute_result"
    }
   ],
   "source": [
    "lr.coef_"
   ]
  },
  {
   "cell_type": "code",
   "execution_count": 63,
   "metadata": {
    "colab": {},
    "colab_type": "code",
    "executionInfo": {
     "elapsed": 19473,
     "status": "ok",
     "timestamp": 1592370785910,
     "user": {
      "displayName": "Sharoon Saxena",
      "photoUrl": "https://lh3.googleusercontent.com/a-/AOh14GjyKz9rNCPkHi6QK8TjrjBFlTtaI9ngf0hIwgAl=s64",
      "userId": "01167841530696023488"
     },
     "user_tz": -330
    },
    "id": "Y0q4O7K0SUDw"
   },
   "outputs": [],
   "source": [
    "predictions = lr.predict(x_test)"
   ]
  },
  {
   "cell_type": "code",
   "execution_count": 64,
   "metadata": {
    "colab": {
     "base_uri": "https://localhost:8080/",
     "height": 34
    },
    "colab_type": "code",
    "executionInfo": {
     "elapsed": 19463,
     "status": "ok",
     "timestamp": 1592370785910,
     "user": {
      "displayName": "Sharoon Saxena",
      "photoUrl": "https://lh3.googleusercontent.com/a-/AOh14GjyKz9rNCPkHi6QK8TjrjBFlTtaI9ngf0hIwgAl=s64",
      "userId": "01167841530696023488"
     },
     "user_tz": -330
    },
    "id": "-w3xX9opSUDx",
    "outputId": "3e2468c3-e9c5-4a1e-9a23-b90be6c5ca57"
   },
   "outputs": [
    {
     "data": {
      "text/plain": [
       "0.7344495220499552"
      ]
     },
     "execution_count": 64,
     "metadata": {},
     "output_type": "execute_result"
    }
   ],
   "source": [
    "lr.score(x_test, y_test)"
   ]
  },
  {
   "cell_type": "markdown",
   "metadata": {
    "colab_type": "text",
    "id": "0YGnDa7hsr7S"
   },
   "source": [
    "### 1. Residuals"
   ]
  },
  {
   "cell_type": "code",
   "execution_count": 65,
   "metadata": {
    "colab": {},
    "colab_type": "code",
    "executionInfo": {
     "elapsed": 19451,
     "status": "ok",
     "timestamp": 1592370785910,
     "user": {
      "displayName": "Sharoon Saxena",
      "photoUrl": "https://lh3.googleusercontent.com/a-/AOh14GjyKz9rNCPkHi6QK8TjrjBFlTtaI9ngf0hIwgAl=s64",
      "userId": "01167841530696023488"
     },
     "user_tz": -330
    },
    "id": "rNBdGrNBeVTz"
   },
   "outputs": [],
   "source": [
    "residuals = predictions - y_test\n",
    "\n",
    "residual_table = pd.DataFrame({'residuals':residuals,\n",
    "                    'predictions':predictions})\n",
    "residual_table = residual_table.sort_values( by = 'predictions')"
   ]
  },
  {
   "cell_type": "code",
   "execution_count": null,
   "metadata": {
    "colab": {},
    "colab_type": "code",
    "executionInfo": {
     "elapsed": 19442,
     "status": "ok",
     "timestamp": 1592370785911,
     "user": {
      "displayName": "Sharoon Saxena",
      "photoUrl": "https://lh3.googleusercontent.com/a-/AOh14GjyKz9rNCPkHi6QK8TjrjBFlTtaI9ngf0hIwgAl=s64",
      "userId": "01167841530696023488"
     },
     "user_tz": -330
    },
    "id": "POeLxZE7ilNk"
   },
   "outputs": [],
   "source": [
    "z = [i for i in range(int(residual_table['predictions'].max()))]\n",
    "k = [0 for i in range(int(residual_table['predictions'].max()))]"
   ]
  },
  {
   "cell_type": "code",
   "execution_count": 67,
   "metadata": {
    "colab": {
     "base_uri": "https://localhost:8080/",
     "height": 683
    },
    "colab_type": "code",
    "executionInfo": {
     "elapsed": 21574,
     "status": "ok",
     "timestamp": 1592370788053,
     "user": {
      "displayName": "Sharoon Saxena",
      "photoUrl": "https://lh3.googleusercontent.com/a-/AOh14GjyKz9rNCPkHi6QK8TjrjBFlTtaI9ngf0hIwgAl=s64",
      "userId": "01167841530696023488"
     },
     "user_tz": -330
    },
    "id": "R5wMrmuDjdfj",
    "outputId": "17c6a62f-15a5-4b0f-981c-0179c34f28e8"
   },
   "outputs": [
    {
     "data": {
      "image/png": "[encoded data removed]",
      "text/plain": [
       "<Figure size 2210x910 with 1 Axes>"
      ]
     },
     "metadata": {
      "needs_background": "light",
      "tags": []
     },
     "output_type": "display_data"
    }
   ],
   "source": [
    "plt.figure(dpi = 130, figsize = (17,7))\n",
    "\n",
    "plt.scatter( residual_table['predictions'], residual_table['residuals'], color = 'red', s = 2)\n",
    "plt.plot(z, k, color = 'green', linewidth = 3, label = 'regression line')\n",
    "plt.ylim(-800000, 800000)\n",
    "plt.xlabel('fitted points (ordered by predictions)')\n",
    "plt.ylabel('residuals')\n",
    "plt.title('residual plot')\n",
    "plt.legend()\n",
    "plt.show()"
   ]
  },
  {
   "cell_type": "markdown",
   "metadata": {
    "colab_type": "text",
    "id": "CUxntcCcsvfE"
   },
   "source": [
    "## 2. Distribution of errors"
   ]
  },
  {
   "cell_type": "code",
   "execution_count": 68,
   "metadata": {
    "colab": {
     "base_uri": "https://localhost:8080/",
     "height": 631
    },
    "colab_type": "code",
    "executionInfo": {
     "elapsed": 21564,
     "status": "ok",
     "timestamp": 1592370788054,
     "user": {
      "displayName": "Sharoon Saxena",
      "photoUrl": "https://lh3.googleusercontent.com/a-/AOh14GjyKz9rNCPkHi6QK8TjrjBFlTtaI9ngf0hIwgAl=s64",
      "userId": "01167841530696023488"
     },
     "user_tz": -330
    },
    "id": "SQdU6sZbSUD5",
    "outputId": "fe7a98c8-6d4e-411c-b474-3b01e5422470"
   },
   "outputs": [
    {
     "data": {
      "image/png": "[encoded data removed]",
      "text/plain": [
       "<Figure size 1000x700 with 1 Axes>"
      ]
     },
     "metadata": {
      "needs_background": "light",
      "tags": []
     },
     "output_type": "display_data"
    }
   ],
   "source": [
    "plt.figure(dpi = 100, figsize = (10,7))\n",
    "plt.hist(residual_table['residuals'], color = 'red', bins = 200)\n",
    "plt.xlabel('residuals')\n",
    "plt.ylabel('frequency')\n",
    "plt.title('distribution of residuals')\n",
    "plt.show()"
   ]
  },
  {
   "cell_type": "markdown",
   "metadata": {
    "colab_type": "text",
    "id": "P9o7ysBD1qfM"
   },
   "source": [
    "## Model Coefficients"
   ]
  },
  {
   "cell_type": "code",
   "execution_count": 69,
   "metadata": {
    "colab": {},
    "colab_type": "code",
    "executionInfo": {
     "elapsed": 21551,
     "status": "ok",
     "timestamp": 1592370788055,
     "user": {
      "displayName": "Sharoon Saxena",
      "photoUrl": "https://lh3.googleusercontent.com/a-/AOh14GjyKz9rNCPkHi6QK8TjrjBFlTtaI9ngf0hIwgAl=s64",
      "userId": "01167841530696023488"
     },
     "user_tz": -330
    },
    "id": "ZXparRKAxzS8"
   },
   "outputs": [],
   "source": [
    "coefficients_table = pd.DataFrame({'column': x_train.columns,\n",
    "                                  'coefficients': lr.coef_})\n",
    "coefficient_table = coefficients_table.sort_values(by = 'coefficients')\n"
   ]
  },
  {
   "cell_type": "code",
   "execution_count": 70,
   "metadata": {
    "colab": {
     "base_uri": "https://localhost:8080/",
     "height": 663
    },
    "colab_type": "code",
    "executionInfo": {
     "elapsed": 22934,
     "status": "ok",
     "timestamp": 1592370789448,
     "user": {
      "displayName": "Sharoon Saxena",
      "photoUrl": "https://lh3.googleusercontent.com/a-/AOh14GjyKz9rNCPkHi6QK8TjrjBFlTtaI9ngf0hIwgAl=s64",
      "userId": "01167841530696023488"
     },
     "user_tz": -330
    },
    "id": "xDOzmCqoXZLf",
    "outputId": "18a62b2e-9832-42aa-a918-d75ca608415e"
   },
   "outputs": [
    {
     "data": {
      "image/png": "[encoded data removed]",
      "text/plain": [
       "<Figure size 960x720 with 1 Axes>"
      ]
     },
     "metadata": {
      "needs_background": "light",
      "tags": []
     },
     "output_type": "display_data"
    }
   ],
   "source": [
    "plt.figure(figsize=(8, 6), dpi=120)\n",
    "x = coefficient_table['column']\n",
    "y = coefficient_table['coefficients']\n",
    "plt.barh( x, y)\n",
    "plt.xlabel( \"Coefficients\")\n",
    "plt.ylabel('Variables')\n",
    "plt.title('Normalized Coefficient plot')\n",
    "plt.show()"
   ]
  }
 ],
 "metadata": {
  "colab": {
   "authorship_tag": "ABX9TyP/3ghUs5miYOMy3WJd3YD/",
   "name": "Linear Regression.ipynb",
   "provenance": []
  },
  "kernelspec": {
   "display_name": "Python 3",
   "language": "python",
   "name": "python3"
  },
  "language_info": {
   "codemirror_mode": {
    "name": "ipython",
    "version": 3
   },
   "file_extension": ".py",
   "mimetype": "text/x-python",
   "name": "python",
   "nbconvert_exporter": "python",
   "pygments_lexer": "ipython3",
   "version": "3.8.8"
  }
 },
 "nbformat": 4,
 "nbformat_minor": 1
}
